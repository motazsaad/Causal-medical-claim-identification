{
  "cells": [
    {
      "cell_type": "markdown",
      "metadata": {
        "id": "view-in-github",
        "colab_type": "text"
      },
      "source": [
        "<a href=\"https://colab.research.google.com/github/motazsaad/Causal-medical-claim-identification/blob/main/Untitled19.ipynb\" target=\"_parent\"><img src=\"https://colab.research.google.com/assets/colab-badge.svg\" alt=\"Open In Colab\"/></a>"
      ]
    },
    {
      "cell_type": "code",
      "execution_count": null,
      "metadata": {
        "colab": {
          "base_uri": "https://localhost:8080/"
        },
        "id": "VdjjwK1R9nE0",
        "outputId": "60f4d564-e4fb-416b-fae8-96555e006828"
      },
      "outputs": [
        {
          "name": "stdout",
          "output_type": "stream",
          "text": [
            "Mounted at /content/drive\n"
          ]
        }
      ],
      "source": [
        "from google.colab import drive\n",
        "drive.mount('/content/drive')"
      ]
    },
    {
      "cell_type": "code",
      "execution_count": null,
      "metadata": {
        "id": "t-HcjR7l93Rw"
      },
      "outputs": [],
      "source": [
        "import pandas as pd\n",
        "from sklearn.model_selection import train_test_split\n",
        "df_train = pd.read_csv(\"/content/drive/MyDrive/st2_train_inc_text.csv\", encoding=\"ISO-8859-1\")\n",
        "\n",
        "df_test = pd.read_csv(\"/content/drive/MyDrive/common_rows.csv\", encoding=\"ISO-8859-1\")\n",
        "\n",
        "\n",
        "\n",
        "text = df_train['text']"
      ]
    },
    {
      "cell_type": "code",
      "execution_count": null,
      "metadata": {
        "colab": {
          "base_uri": "https://localhost:8080/",
          "height": 742
        },
        "id": "sgb74BV5Haxy",
        "outputId": "768ee4b5-638a-4d9f-98d1-ccb1af159371"
      },
      "outputs": [
        {
          "data": {
            "text/html": [
              "\n",
              "  <div id=\"df-8c374056-0f44-41a5-99a3-4f190fcfb769\" class=\"colab-df-container\">\n",
              "    <div>\n",
              "<style scoped>\n",
              "    .dataframe tbody tr th:only-of-type {\n",
              "        vertical-align: middle;\n",
              "    }\n",
              "\n",
              "    .dataframe tbody tr th {\n",
              "        vertical-align: top;\n",
              "    }\n",
              "\n",
              "    .dataframe thead th {\n",
              "        text-align: right;\n",
              "    }\n",
              "</style>\n",
              "<table border=\"1\" class=\"dataframe\">\n",
              "  <thead>\n",
              "    <tr style=\"text-align: right;\">\n",
              "      <th></th>\n",
              "      <th>post_id</th>\n",
              "      <th>subreddit_id</th>\n",
              "      <th>claim</th>\n",
              "      <th>text</th>\n",
              "      <th>stage2_labels</th>\n",
              "    </tr>\n",
              "  </thead>\n",
              "  <tbody>\n",
              "    <tr>\n",
              "      <th>0</th>\n",
              "      <td>s8qa1c</td>\n",
              "      <td>t5_2tyg2</td>\n",
              "      <td>[Structural dissociation](https://did-research...</td>\n",
              "      <td>Can structural dissociation lead to psychosis?...</td>\n",
              "      <td>[{\"crowd-entity-annotation\":{\"entities\":[{\"end...</td>\n",
              "    </tr>\n",
              "    <tr>\n",
              "      <th>1</th>\n",
              "      <td>opt7bh</td>\n",
              "      <td>t5_2syer</td>\n",
              "      <td>I though that the gout was for old whiskey dri...</td>\n",
              "      <td>First time gout flare\\nHi guys,\\n\\nJust turned...</td>\n",
              "      <td>[{\"crowd-entity-annotation\":{\"entities\":[{\"end...</td>\n",
              "    </tr>\n",
              "    <tr>\n",
              "      <th>2</th>\n",
              "      <td>rfj6tf</td>\n",
              "      <td>t5_2qlaa</td>\n",
              "      <td>I've read that a liquid alginate suspension (G...</td>\n",
              "      <td>Can I buy liquid alginate suspension (Gaviscon...</td>\n",
              "      <td>[{\"crowd-entity-annotation\":{\"entities\":[{\"end...</td>\n",
              "    </tr>\n",
              "    <tr>\n",
              "      <th>3</th>\n",
              "      <td>qyfer0</td>\n",
              "      <td>t5_2syer</td>\n",
              "      <td>This will reduce the effects of Lisinopril pre...</td>\n",
              "      <td>[deleted by user]\\n[removed]</td>\n",
              "      <td>[{\"crowd-entity-annotation\":{\"entities\":[{\"end...</td>\n",
              "    </tr>\n",
              "    <tr>\n",
              "      <th>4</th>\n",
              "      <td>rr99la</td>\n",
              "      <td>t5_2qlaa</td>\n",
              "      <td>all the gerd/lpr stuff online says we should a...</td>\n",
              "      <td>I seem to reflux more and sleep worse when I d...</td>\n",
              "      <td>[{\"crowd-entity-annotation\":{\"entities\":[{\"end...</td>\n",
              "    </tr>\n",
              "    <tr>\n",
              "      <th>...</th>\n",
              "      <td>...</td>\n",
              "      <td>...</td>\n",
              "      <td>...</td>\n",
              "      <td>...</td>\n",
              "      <td>...</td>\n",
              "    </tr>\n",
              "    <tr>\n",
              "      <th>144</th>\n",
              "      <td>pkgb0t</td>\n",
              "      <td>t5_2r876</td>\n",
              "      <td>e doctor said a lot of people have a flair and...</td>\n",
              "      <td>ABPA?\\nIt's me again.  My son's been sick for ...</td>\n",
              "      <td>[{\"crowd-entity-annotation\":{\"entities\":[{\"end...</td>\n",
              "    </tr>\n",
              "    <tr>\n",
              "      <th>145</th>\n",
              "      <td>rrc55b</td>\n",
              "      <td>t5_2s1h9</td>\n",
              "      <td>I've been researching some problems I've been ...</td>\n",
              "      <td>Sleep-related Hypermotor Epilepsy\\nHey all,\\n\\...</td>\n",
              "      <td>[{\"crowd-entity-annotation\":{\"entities\":[{\"end...</td>\n",
              "    </tr>\n",
              "    <tr>\n",
              "      <th>146</th>\n",
              "      <td>sqckaa</td>\n",
              "      <td>t5_2s23e</td>\n",
              "      <td>What **Plegridy** injections have extra apart ...</td>\n",
              "      <td>Anyone has local injection site reactions on K...</td>\n",
              "      <td>[{\"crowd-entity-annotation\":{\"entities\":[{\"end...</td>\n",
              "    </tr>\n",
              "    <tr>\n",
              "      <th>147</th>\n",
              "      <td>rwzbcd</td>\n",
              "      <td>t5_2qlaa</td>\n",
              "      <td>My sister, who also has GERD, said that pepper...</td>\n",
              "      <td>[deleted by user]\\n[removed]</td>\n",
              "      <td>[{\"crowd-entity-annotation\":{\"entities\":[{\"end...</td>\n",
              "    </tr>\n",
              "    <tr>\n",
              "      <th>148</th>\n",
              "      <td>qxkh0f</td>\n",
              "      <td>t5_2syer</td>\n",
              "      <td>GP thought gout in ankle was unlikely and that...</td>\n",
              "      <td>Ankle / achilles\\nLooking for others' experien...</td>\n",
              "      <td>[{\"crowd-entity-annotation\":{\"entities\":[]}}]</td>\n",
              "    </tr>\n",
              "  </tbody>\n",
              "</table>\n",
              "<p>149 rows × 5 columns</p>\n",
              "</div>\n",
              "    <div class=\"colab-df-buttons\">\n",
              "\n",
              "  <div class=\"colab-df-container\">\n",
              "    <button class=\"colab-df-convert\" onclick=\"convertToInteractive('df-8c374056-0f44-41a5-99a3-4f190fcfb769')\"\n",
              "            title=\"Convert this dataframe to an interactive table.\"\n",
              "            style=\"display:none;\">\n",
              "\n",
              "  <svg xmlns=\"http://www.w3.org/2000/svg\" height=\"24px\" viewBox=\"0 -960 960 960\">\n",
              "    <path d=\"M120-120v-720h720v720H120Zm60-500h600v-160H180v160Zm220 220h160v-160H400v160Zm0 220h160v-160H400v160ZM180-400h160v-160H180v160Zm440 0h160v-160H620v160ZM180-180h160v-160H180v160Zm440 0h160v-160H620v160Z\"/>\n",
              "  </svg>\n",
              "    </button>\n",
              "\n",
              "  <style>\n",
              "    .colab-df-container {\n",
              "      display:flex;\n",
              "      gap: 12px;\n",
              "    }\n",
              "\n",
              "    .colab-df-convert {\n",
              "      background-color: #E8F0FE;\n",
              "      border: none;\n",
              "      border-radius: 50%;\n",
              "      cursor: pointer;\n",
              "      display: none;\n",
              "      fill: #1967D2;\n",
              "      height: 32px;\n",
              "      padding: 0 0 0 0;\n",
              "      width: 32px;\n",
              "    }\n",
              "\n",
              "    .colab-df-convert:hover {\n",
              "      background-color: #E2EBFA;\n",
              "      box-shadow: 0px 1px 2px rgba(60, 64, 67, 0.3), 0px 1px 3px 1px rgba(60, 64, 67, 0.15);\n",
              "      fill: #174EA6;\n",
              "    }\n",
              "\n",
              "    .colab-df-buttons div {\n",
              "      margin-bottom: 4px;\n",
              "    }\n",
              "\n",
              "    [theme=dark] .colab-df-convert {\n",
              "      background-color: #3B4455;\n",
              "      fill: #D2E3FC;\n",
              "    }\n",
              "\n",
              "    [theme=dark] .colab-df-convert:hover {\n",
              "      background-color: #434B5C;\n",
              "      box-shadow: 0px 1px 3px 1px rgba(0, 0, 0, 0.15);\n",
              "      filter: drop-shadow(0px 1px 2px rgba(0, 0, 0, 0.3));\n",
              "      fill: #FFFFFF;\n",
              "    }\n",
              "  </style>\n",
              "\n",
              "    <script>\n",
              "      const buttonEl =\n",
              "        document.querySelector('#df-8c374056-0f44-41a5-99a3-4f190fcfb769 button.colab-df-convert');\n",
              "      buttonEl.style.display =\n",
              "        google.colab.kernel.accessAllowed ? 'block' : 'none';\n",
              "\n",
              "      async function convertToInteractive(key) {\n",
              "        const element = document.querySelector('#df-8c374056-0f44-41a5-99a3-4f190fcfb769');\n",
              "        const dataTable =\n",
              "          await google.colab.kernel.invokeFunction('convertToInteractive',\n",
              "                                                    [key], {});\n",
              "        if (!dataTable) return;\n",
              "\n",
              "        const docLinkHtml = 'Like what you see? Visit the ' +\n",
              "          '<a target=\"_blank\" href=https://colab.research.google.com/notebooks/data_table.ipynb>data table notebook</a>'\n",
              "          + ' to learn more about interactive tables.';\n",
              "        element.innerHTML = '';\n",
              "        dataTable['output_type'] = 'display_data';\n",
              "        await google.colab.output.renderOutput(dataTable, element);\n",
              "        const docLink = document.createElement('div');\n",
              "        docLink.innerHTML = docLinkHtml;\n",
              "        element.appendChild(docLink);\n",
              "      }\n",
              "    </script>\n",
              "  </div>\n",
              "\n",
              "\n",
              "<div id=\"df-1437a7a3-b267-4b1a-8c2e-e1926a7b02dd\">\n",
              "  <button class=\"colab-df-quickchart\" onclick=\"quickchart('df-1437a7a3-b267-4b1a-8c2e-e1926a7b02dd')\"\n",
              "            title=\"Suggest charts.\"\n",
              "            style=\"display:none;\">\n",
              "\n",
              "<svg xmlns=\"http://www.w3.org/2000/svg\" height=\"24px\"viewBox=\"0 0 24 24\"\n",
              "     width=\"24px\">\n",
              "    <g>\n",
              "        <path d=\"M19 3H5c-1.1 0-2 .9-2 2v14c0 1.1.9 2 2 2h14c1.1 0 2-.9 2-2V5c0-1.1-.9-2-2-2zM9 17H7v-7h2v7zm4 0h-2V7h2v10zm4 0h-2v-4h2v4z\"/>\n",
              "    </g>\n",
              "</svg>\n",
              "  </button>\n",
              "\n",
              "<style>\n",
              "  .colab-df-quickchart {\n",
              "    background-color: #E8F0FE;\n",
              "    border: none;\n",
              "    border-radius: 50%;\n",
              "    cursor: pointer;\n",
              "    display: none;\n",
              "    fill: #1967D2;\n",
              "    height: 32px;\n",
              "    padding: 0 0 0 0;\n",
              "    width: 32px;\n",
              "  }\n",
              "\n",
              "  .colab-df-quickchart:hover {\n",
              "    background-color: #E2EBFA;\n",
              "    box-shadow: 0px 1px 2px rgba(60, 64, 67, 0.3), 0px 1px 3px 1px rgba(60, 64, 67, 0.15);\n",
              "    fill: #174EA6;\n",
              "  }\n",
              "\n",
              "  [theme=dark] .colab-df-quickchart {\n",
              "    background-color: #3B4455;\n",
              "    fill: #D2E3FC;\n",
              "  }\n",
              "\n",
              "  [theme=dark] .colab-df-quickchart:hover {\n",
              "    background-color: #434B5C;\n",
              "    box-shadow: 0px 1px 3px 1px rgba(0, 0, 0, 0.15);\n",
              "    filter: drop-shadow(0px 1px 2px rgba(0, 0, 0, 0.3));\n",
              "    fill: #FFFFFF;\n",
              "  }\n",
              "</style>\n",
              "\n",
              "  <script>\n",
              "    async function quickchart(key) {\n",
              "      const charts = await google.colab.kernel.invokeFunction(\n",
              "          'suggestCharts', [key], {});\n",
              "    }\n",
              "    (() => {\n",
              "      let quickchartButtonEl =\n",
              "        document.querySelector('#df-1437a7a3-b267-4b1a-8c2e-e1926a7b02dd button');\n",
              "      quickchartButtonEl.style.display =\n",
              "        google.colab.kernel.accessAllowed ? 'block' : 'none';\n",
              "    })();\n",
              "  </script>\n",
              "</div>\n",
              "    </div>\n",
              "  </div>\n"
            ],
            "text/plain": [
              "    post_id subreddit_id                                              claim  \\\n",
              "0    s8qa1c     t5_2tyg2  [Structural dissociation](https://did-research...   \n",
              "1    opt7bh     t5_2syer  I though that the gout was for old whiskey dri...   \n",
              "2    rfj6tf     t5_2qlaa  I've read that a liquid alginate suspension (G...   \n",
              "3    qyfer0     t5_2syer  This will reduce the effects of Lisinopril pre...   \n",
              "4    rr99la     t5_2qlaa  all the gerd/lpr stuff online says we should a...   \n",
              "..      ...          ...                                                ...   \n",
              "144  pkgb0t     t5_2r876  e doctor said a lot of people have a flair and...   \n",
              "145  rrc55b     t5_2s1h9  I've been researching some problems I've been ...   \n",
              "146  sqckaa     t5_2s23e  What **Plegridy** injections have extra apart ...   \n",
              "147  rwzbcd     t5_2qlaa  My sister, who also has GERD, said that pepper...   \n",
              "148  qxkh0f     t5_2syer  GP thought gout in ankle was unlikely and that...   \n",
              "\n",
              "                                                  text  \\\n",
              "0    Can structural dissociation lead to psychosis?...   \n",
              "1    First time gout flare\\nHi guys,\\n\\nJust turned...   \n",
              "2    Can I buy liquid alginate suspension (Gaviscon...   \n",
              "3                         [deleted by user]\\n[removed]   \n",
              "4    I seem to reflux more and sleep worse when I d...   \n",
              "..                                                 ...   \n",
              "144  ABPA?\\nIt's me again.  My son's been sick for ...   \n",
              "145  Sleep-related Hypermotor Epilepsy\\nHey all,\\n\\...   \n",
              "146  Anyone has local injection site reactions on K...   \n",
              "147                       [deleted by user]\\n[removed]   \n",
              "148  Ankle / achilles\\nLooking for others' experien...   \n",
              "\n",
              "                                         stage2_labels  \n",
              "0    [{\"crowd-entity-annotation\":{\"entities\":[{\"end...  \n",
              "1    [{\"crowd-entity-annotation\":{\"entities\":[{\"end...  \n",
              "2    [{\"crowd-entity-annotation\":{\"entities\":[{\"end...  \n",
              "3    [{\"crowd-entity-annotation\":{\"entities\":[{\"end...  \n",
              "4    [{\"crowd-entity-annotation\":{\"entities\":[{\"end...  \n",
              "..                                                 ...  \n",
              "144  [{\"crowd-entity-annotation\":{\"entities\":[{\"end...  \n",
              "145  [{\"crowd-entity-annotation\":{\"entities\":[{\"end...  \n",
              "146  [{\"crowd-entity-annotation\":{\"entities\":[{\"end...  \n",
              "147  [{\"crowd-entity-annotation\":{\"entities\":[{\"end...  \n",
              "148      [{\"crowd-entity-annotation\":{\"entities\":[]}}]  \n",
              "\n",
              "[149 rows x 5 columns]"
            ]
          },
          "execution_count": 4,
          "metadata": {},
          "output_type": "execute_result"
        }
      ],
      "source": [
        "df_test"
      ]
    },
    {
      "cell_type": "code",
      "execution_count": null,
      "metadata": {
        "colab": {
          "base_uri": "https://localhost:8080/",
          "height": 35
        },
        "id": "-c6IsEHJw5hV",
        "outputId": "f5ac8a96-7562-4bf4-a9a2-0612f27600a8"
      },
      "outputs": [
        {
          "output_type": "execute_result",
          "data": {
            "text/plain": [
              "' gout'"
            ],
            "application/vnd.google.colaboratory.intrinsic+json": {
              "type": "string"
            }
          },
          "metadata": {},
          "execution_count": 36
        }
      ],
      "source": [
        "df_train.iloc[31]['text'][26:31]\n"
      ]
    },
    {
      "cell_type": "code",
      "execution_count": null,
      "metadata": {
        "colab": {
          "base_uri": "https://localhost:8080/",
          "height": 35
        },
        "id": "c8C_diT3A8wp",
        "outputId": "dfc8a327-21e2-48c0-b2d9-36bf2f707ee9"
      },
      "outputs": [
        {
          "output_type": "execute_result",
          "data": {
            "text/plain": [
              "'\\npython -m spacy download en_core_web_sm\\n'"
            ],
            "application/vnd.google.colaboratory.intrinsic+json": {
              "type": "string"
            }
          },
          "metadata": {},
          "execution_count": 37
        }
      ],
      "source": [
        "'''\n",
        "python -m spacy download en_core_web_sm\n",
        "'''"
      ]
    },
    {
      "cell_type": "code",
      "execution_count": null,
      "metadata": {
        "id": "yJH2gXNnA--6"
      },
      "outputs": [],
      "source": [
        "import spacy\n",
        "from spacy import displacy\n",
        "nlp = spacy.load(\"en_core_web_sm\")"
      ]
    },
    {
      "cell_type": "code",
      "execution_count": null,
      "metadata": {
        "colab": {
          "base_uri": "https://localhost:8080/",
          "height": 137
        },
        "id": "90qvrGDh28T5",
        "outputId": "8c2f5c56-dadf-4522-e803-d3b5f8133ee5"
      },
      "outputs": [
        {
          "output_type": "execute_result",
          "data": {
            "text/plain": [
              "\"Can structural dissociation lead to psychosis?\\n[Structural dissociation](https://did-research.org/origin/structural_dissociation/) talks about how trauma and [emotional neglect](/r/emotionalneglect) can split a person's psyche. Emotional parts split off from the apparently normal part, and even the apparently normal part can split.\\n\\nMy own experiences suggest that these kinds of splits can lead to psychosis. The split off parts are not fully walled off, and especially in the right sort of triggering crisis situation, they can intrude into the experience in confusing ways. Because I didn't know those parts of myself well, and wasn't used to working with them, what happened seemed weird and partly supernatural. I wasn't used to processing that, and ended up processing it in an unreasonable way.\\n\\nThe difficult thing here is that when so much of myself was split off via structural dissociation, it's hard to simply ignore it. The only true healing involves finding more reasonable understanding of what happened, and accepting more parts of me back. Otherwise, I'm disabled from missing so much of myself, and disowned parts remain, and potentially cause future problems.\""
            ],
            "application/vnd.google.colaboratory.intrinsic+json": {
              "type": "string"
            }
          },
          "metadata": {},
          "execution_count": 39
        }
      ],
      "source": [
        "text"
      ]
    },
    {
      "cell_type": "code",
      "execution_count": null,
      "metadata": {
        "colab": {
          "base_uri": "https://localhost:8080/",
          "height": 847
        },
        "id": "aObiNRmjZnst",
        "outputId": "ff76eccc-8998-404a-f127-0164542d9cf9"
      },
      "outputs": [
        {
          "output_type": "stream",
          "name": "stdout",
          "text": [
            "Requirement already satisfied: spacy in /usr/local/lib/python3.10/dist-packages (3.4.4)\n",
            "Collecting spacy\n",
            "  Downloading spacy-3.6.1-cp310-cp310-manylinux_2_17_x86_64.manylinux2014_x86_64.whl (6.6 MB)\n",
            "\u001b[2K     \u001b[90m━━━━━━━━━━━━━━━━━━━━━━━━━━━━━━━━━━━━━━━━\u001b[0m \u001b[32m6.6/6.6 MB\u001b[0m \u001b[31m16.1 MB/s\u001b[0m eta \u001b[36m0:00:00\u001b[0m\n",
            "\u001b[?25hRequirement already satisfied: spacy-legacy<3.1.0,>=3.0.11 in /usr/local/lib/python3.10/dist-packages (from spacy) (3.0.12)\n",
            "Requirement already satisfied: spacy-loggers<2.0.0,>=1.0.0 in /usr/local/lib/python3.10/dist-packages (from spacy) (1.0.4)\n",
            "Requirement already satisfied: murmurhash<1.1.0,>=0.28.0 in /usr/local/lib/python3.10/dist-packages (from spacy) (1.0.9)\n",
            "Requirement already satisfied: cymem<2.1.0,>=2.0.2 in /usr/local/lib/python3.10/dist-packages (from spacy) (2.0.7)\n",
            "Requirement already satisfied: preshed<3.1.0,>=3.0.2 in /usr/local/lib/python3.10/dist-packages (from spacy) (3.0.8)\n",
            "Requirement already satisfied: thinc<8.2.0,>=8.1.8 in /usr/local/lib/python3.10/dist-packages (from spacy) (8.1.12)\n",
            "Requirement already satisfied: wasabi<1.2.0,>=0.9.1 in /usr/local/lib/python3.10/dist-packages (from spacy) (0.10.1)\n",
            "Requirement already satisfied: srsly<3.0.0,>=2.4.3 in /usr/local/lib/python3.10/dist-packages (from spacy) (2.4.7)\n",
            "Requirement already satisfied: catalogue<2.1.0,>=2.0.6 in /usr/local/lib/python3.10/dist-packages (from spacy) (2.0.9)\n",
            "Requirement already satisfied: typer<0.10.0,>=0.3.0 in /usr/local/lib/python3.10/dist-packages (from spacy) (0.7.0)\n",
            "Requirement already satisfied: pathy>=0.10.0 in /usr/local/lib/python3.10/dist-packages (from spacy) (0.10.2)\n",
            "Requirement already satisfied: smart-open<7.0.0,>=5.2.1 in /usr/local/lib/python3.10/dist-packages (from spacy) (6.3.0)\n",
            "Requirement already satisfied: tqdm<5.0.0,>=4.38.0 in /usr/local/lib/python3.10/dist-packages (from spacy) (4.66.1)\n",
            "Requirement already satisfied: numpy>=1.15.0 in /usr/local/lib/python3.10/dist-packages (from spacy) (1.23.5)\n",
            "Requirement already satisfied: requests<3.0.0,>=2.13.0 in /usr/local/lib/python3.10/dist-packages (from spacy) (2.31.0)\n",
            "Requirement already satisfied: pydantic!=1.8,!=1.8.1,<3.0.0,>=1.7.4 in /usr/local/lib/python3.10/dist-packages (from spacy) (1.10.12)\n",
            "Requirement already satisfied: jinja2 in /usr/local/lib/python3.10/dist-packages (from spacy) (3.1.2)\n",
            "Requirement already satisfied: setuptools in /usr/local/lib/python3.10/dist-packages (from spacy) (67.7.2)\n",
            "Requirement already satisfied: packaging>=20.0 in /usr/local/lib/python3.10/dist-packages (from spacy) (23.1)\n",
            "Requirement already satisfied: langcodes<4.0.0,>=3.2.0 in /usr/local/lib/python3.10/dist-packages (from spacy) (3.3.0)\n",
            "Requirement already satisfied: typing-extensions>=4.2.0 in /usr/local/lib/python3.10/dist-packages (from pydantic!=1.8,!=1.8.1,<3.0.0,>=1.7.4->spacy) (4.7.1)\n",
            "Requirement already satisfied: charset-normalizer<4,>=2 in /usr/local/lib/python3.10/dist-packages (from requests<3.0.0,>=2.13.0->spacy) (3.2.0)\n",
            "Requirement already satisfied: idna<4,>=2.5 in /usr/local/lib/python3.10/dist-packages (from requests<3.0.0,>=2.13.0->spacy) (3.4)\n",
            "Requirement already satisfied: urllib3<3,>=1.21.1 in /usr/local/lib/python3.10/dist-packages (from requests<3.0.0,>=2.13.0->spacy) (2.0.4)\n",
            "Requirement already satisfied: certifi>=2017.4.17 in /usr/local/lib/python3.10/dist-packages (from requests<3.0.0,>=2.13.0->spacy) (2023.7.22)\n",
            "Requirement already satisfied: blis<0.8.0,>=0.7.8 in /usr/local/lib/python3.10/dist-packages (from thinc<8.2.0,>=8.1.8->spacy) (0.7.10)\n",
            "Requirement already satisfied: confection<1.0.0,>=0.0.1 in /usr/local/lib/python3.10/dist-packages (from thinc<8.2.0,>=8.1.8->spacy) (0.1.1)\n",
            "Requirement already satisfied: click<9.0.0,>=7.1.1 in /usr/local/lib/python3.10/dist-packages (from typer<0.10.0,>=0.3.0->spacy) (8.1.6)\n",
            "Requirement already satisfied: MarkupSafe>=2.0 in /usr/local/lib/python3.10/dist-packages (from jinja2->spacy) (2.1.3)\n",
            "Installing collected packages: spacy\n",
            "  Attempting uninstall: spacy\n",
            "    Found existing installation: spacy 3.4.4\n",
            "    Uninstalling spacy-3.4.4:\n",
            "      Successfully uninstalled spacy-3.4.4\n",
            "\u001b[31mERROR: pip's dependency resolver does not currently take into account all the packages that are installed. This behaviour is the source of the following dependency conflicts.\n",
            "en-core-sci-sm 0.5.1 requires spacy<3.5.0,>=3.4.1, but you have spacy 3.6.1 which is incompatible.\n",
            "scispacy 0.5.2 requires spacy<3.5.0,>=3.4.0, but you have spacy 3.6.1 which is incompatible.\u001b[0m\u001b[31m\n",
            "\u001b[0mSuccessfully installed spacy-3.6.1\n"
          ]
        },
        {
          "output_type": "display_data",
          "data": {
            "application/vnd.colab-display-data+json": {
              "pip_warning": {
                "packages": [
                  "spacy"
                ]
              }
            }
          },
          "metadata": {}
        }
      ],
      "source": [
        "!pip install -U spacy\n"
      ]
    },
    {
      "cell_type": "code",
      "execution_count": null,
      "metadata": {
        "colab": {
          "base_uri": "https://localhost:8080/",
          "height": 106
        },
        "id": "X3OUCdthEeiY",
        "outputId": "d6093a0c-1101-47d9-ff1f-e95004f040dc"
      },
      "outputs": [
        {
          "output_type": "stream",
          "name": "stderr",
          "text": [
            "/usr/local/lib/python3.10/dist-packages/spacy/displacy/__init__.py:213: UserWarning: [W006] No entities to visualize found in Doc object. If this is surprising to you, make sure the Doc was processed using a model that supports named entity recognition, and check the `doc.ents` property manually if necessary.\n",
            "  \"\"\"Generate spans in [{start_token: i, end_token: i, label: 'label'}] format.\n"
          ]
        },
        {
          "output_type": "display_data",
          "data": {
            "text/plain": [
              "<IPython.core.display.HTML object>"
            ],
            "text/html": [
              "<span class=\"tex2jax_ignore\"><div class=\"entities\" style=\"line-height: 2.5; direction: ltr\">C</div></span>"
            ]
          },
          "metadata": {}
        }
      ],
      "source": [
        "doc = nlp(text[0])\n",
        "displacy.render(doc, style=\"ent\",jupyter=True)"
      ]
    },
    {
      "cell_type": "code",
      "execution_count": null,
      "metadata": {
        "colab": {
          "base_uri": "https://localhost:8080/"
        },
        "id": "AW6HCaTUFak8",
        "outputId": "0f550723-516a-4e2d-fcff-f4e5a485d630"
      },
      "outputs": [
        {
          "output_type": "execute_result",
          "data": {
            "text/plain": [
              "[('tok2vec', <spacy.pipeline.tok2vec.Tok2Vec at 0x7b52ae71d5a0>),\n",
              " ('tagger', <spacy.pipeline.tagger.Tagger at 0x7b52adad3d00>),\n",
              " ('parser', <spacy.pipeline.dep_parser.DependencyParser at 0x7b52ae4cda80>),\n",
              " ('attribute_ruler',\n",
              "  <spacy.pipeline.attributeruler.AttributeRuler at 0x7b52ad9da100>),\n",
              " ('lemmatizer',\n",
              "  <spacy.lang.en.lemmatizer.EnglishLemmatizer at 0x7b52ada4eb80>),\n",
              " ('ner', <spacy.pipeline.ner.EntityRecognizer at 0x7b52adacf290>)]"
            ]
          },
          "metadata": {},
          "execution_count": 42
        }
      ],
      "source": [
        "nlp.pipeline"
      ]
    },
    {
      "cell_type": "code",
      "execution_count": null,
      "metadata": {
        "id": "wShegNt1tlYf"
      },
      "outputs": [],
      "source": [
        "import json\n",
        "\n",
        "def transformData(df):\n",
        "  newDataFormat = []\n",
        "  for index, row in df.iterrows():\n",
        "      newLabelFormat = []\n",
        "      result = json.loads(row['stage2_labels'])\n",
        "      tags = result[0]['crowd-entity-annotation']['entities']\n",
        "      for tag in tags:\n",
        "        newLabelFormat.append((tag['startOffset'],tag['endOffset'],tag['label']))\n",
        "      newDataFormat.append((row['text'],newLabelFormat))\n",
        "  return newDataFormat"
      ]
    },
    {
      "cell_type": "code",
      "execution_count": null,
      "metadata": {
        "colab": {
          "base_uri": "https://localhost:8080/",
          "height": 1000
        },
        "id": "N4y8knxfZAgm",
        "outputId": "4bb6dd7d-3e43-4832-a1de-745c9022b080"
      },
      "outputs": [
        {
          "output_type": "stream",
          "name": "stdout",
          "text": [
            "Requirement already satisfied: scispacy in /usr/local/lib/python3.10/dist-packages (0.5.2)\n",
            "Collecting spacy<3.5.0,>=3.4.0 (from scispacy)\n",
            "  Using cached spacy-3.4.4-cp310-cp310-manylinux_2_17_x86_64.manylinux2014_x86_64.whl (6.5 MB)\n",
            "Requirement already satisfied: requests<3.0.0,>=2.0.0 in /usr/local/lib/python3.10/dist-packages (from scispacy) (2.31.0)\n",
            "Requirement already satisfied: conllu in /usr/local/lib/python3.10/dist-packages (from scispacy) (4.5.3)\n",
            "Requirement already satisfied: numpy in /usr/local/lib/python3.10/dist-packages (from scispacy) (1.23.5)\n",
            "Requirement already satisfied: joblib in /usr/local/lib/python3.10/dist-packages (from scispacy) (1.3.2)\n",
            "Requirement already satisfied: nmslib>=1.7.3.6 in /usr/local/lib/python3.10/dist-packages (from scispacy) (2.1.1)\n",
            "Requirement already satisfied: scikit-learn>=0.20.3 in /usr/local/lib/python3.10/dist-packages (from scispacy) (1.2.2)\n",
            "Requirement already satisfied: pysbd in /usr/local/lib/python3.10/dist-packages (from scispacy) (0.3.4)\n",
            "Requirement already satisfied: pybind11<2.6.2 in /usr/local/lib/python3.10/dist-packages (from nmslib>=1.7.3.6->scispacy) (2.6.1)\n",
            "Requirement already satisfied: psutil in /usr/local/lib/python3.10/dist-packages (from nmslib>=1.7.3.6->scispacy) (5.9.5)\n",
            "Requirement already satisfied: charset-normalizer<4,>=2 in /usr/local/lib/python3.10/dist-packages (from requests<3.0.0,>=2.0.0->scispacy) (3.2.0)\n",
            "Requirement already satisfied: idna<4,>=2.5 in /usr/local/lib/python3.10/dist-packages (from requests<3.0.0,>=2.0.0->scispacy) (3.4)\n",
            "Requirement already satisfied: urllib3<3,>=1.21.1 in /usr/local/lib/python3.10/dist-packages (from requests<3.0.0,>=2.0.0->scispacy) (2.0.4)\n",
            "Requirement already satisfied: certifi>=2017.4.17 in /usr/local/lib/python3.10/dist-packages (from requests<3.0.0,>=2.0.0->scispacy) (2023.7.22)\n",
            "Requirement already satisfied: scipy>=1.3.2 in /usr/local/lib/python3.10/dist-packages (from scikit-learn>=0.20.3->scispacy) (1.10.1)\n",
            "Requirement already satisfied: threadpoolctl>=2.0.0 in /usr/local/lib/python3.10/dist-packages (from scikit-learn>=0.20.3->scispacy) (3.2.0)\n",
            "Requirement already satisfied: spacy-legacy<3.1.0,>=3.0.10 in /usr/local/lib/python3.10/dist-packages (from spacy<3.5.0,>=3.4.0->scispacy) (3.0.12)\n",
            "Requirement already satisfied: spacy-loggers<2.0.0,>=1.0.0 in /usr/local/lib/python3.10/dist-packages (from spacy<3.5.0,>=3.4.0->scispacy) (1.0.4)\n",
            "Requirement already satisfied: murmurhash<1.1.0,>=0.28.0 in /usr/local/lib/python3.10/dist-packages (from spacy<3.5.0,>=3.4.0->scispacy) (1.0.9)\n",
            "Requirement already satisfied: cymem<2.1.0,>=2.0.2 in /usr/local/lib/python3.10/dist-packages (from spacy<3.5.0,>=3.4.0->scispacy) (2.0.7)\n",
            "Requirement already satisfied: preshed<3.1.0,>=3.0.2 in /usr/local/lib/python3.10/dist-packages (from spacy<3.5.0,>=3.4.0->scispacy) (3.0.8)\n",
            "Requirement already satisfied: thinc<8.2.0,>=8.1.0 in /usr/local/lib/python3.10/dist-packages (from spacy<3.5.0,>=3.4.0->scispacy) (8.1.12)\n",
            "Requirement already satisfied: wasabi<1.1.0,>=0.9.1 in /usr/local/lib/python3.10/dist-packages (from spacy<3.5.0,>=3.4.0->scispacy) (0.10.1)\n",
            "Requirement already satisfied: srsly<3.0.0,>=2.4.3 in /usr/local/lib/python3.10/dist-packages (from spacy<3.5.0,>=3.4.0->scispacy) (2.4.7)\n",
            "Requirement already satisfied: catalogue<2.1.0,>=2.0.6 in /usr/local/lib/python3.10/dist-packages (from spacy<3.5.0,>=3.4.0->scispacy) (2.0.9)\n",
            "Requirement already satisfied: typer<0.8.0,>=0.3.0 in /usr/local/lib/python3.10/dist-packages (from spacy<3.5.0,>=3.4.0->scispacy) (0.7.0)\n",
            "Requirement already satisfied: pathy>=0.3.5 in /usr/local/lib/python3.10/dist-packages (from spacy<3.5.0,>=3.4.0->scispacy) (0.10.2)\n",
            "Requirement already satisfied: smart-open<7.0.0,>=5.2.1 in /usr/local/lib/python3.10/dist-packages (from spacy<3.5.0,>=3.4.0->scispacy) (6.3.0)\n",
            "Requirement already satisfied: tqdm<5.0.0,>=4.38.0 in /usr/local/lib/python3.10/dist-packages (from spacy<3.5.0,>=3.4.0->scispacy) (4.66.1)\n",
            "Requirement already satisfied: pydantic!=1.8,!=1.8.1,<1.11.0,>=1.7.4 in /usr/local/lib/python3.10/dist-packages (from spacy<3.5.0,>=3.4.0->scispacy) (1.10.12)\n",
            "Requirement already satisfied: jinja2 in /usr/local/lib/python3.10/dist-packages (from spacy<3.5.0,>=3.4.0->scispacy) (3.1.2)\n",
            "Requirement already satisfied: setuptools in /usr/local/lib/python3.10/dist-packages (from spacy<3.5.0,>=3.4.0->scispacy) (67.7.2)\n",
            "Requirement already satisfied: packaging>=20.0 in /usr/local/lib/python3.10/dist-packages (from spacy<3.5.0,>=3.4.0->scispacy) (23.1)\n",
            "Requirement already satisfied: langcodes<4.0.0,>=3.2.0 in /usr/local/lib/python3.10/dist-packages (from spacy<3.5.0,>=3.4.0->scispacy) (3.3.0)\n",
            "Requirement already satisfied: typing-extensions>=4.2.0 in /usr/local/lib/python3.10/dist-packages (from pydantic!=1.8,!=1.8.1,<1.11.0,>=1.7.4->spacy<3.5.0,>=3.4.0->scispacy) (4.7.1)\n",
            "Requirement already satisfied: blis<0.8.0,>=0.7.8 in /usr/local/lib/python3.10/dist-packages (from thinc<8.2.0,>=8.1.0->spacy<3.5.0,>=3.4.0->scispacy) (0.7.10)\n",
            "Requirement already satisfied: confection<1.0.0,>=0.0.1 in /usr/local/lib/python3.10/dist-packages (from thinc<8.2.0,>=8.1.0->spacy<3.5.0,>=3.4.0->scispacy) (0.1.1)\n",
            "Requirement already satisfied: click<9.0.0,>=7.1.1 in /usr/local/lib/python3.10/dist-packages (from typer<0.8.0,>=0.3.0->spacy<3.5.0,>=3.4.0->scispacy) (8.1.6)\n",
            "Requirement already satisfied: MarkupSafe>=2.0 in /usr/local/lib/python3.10/dist-packages (from jinja2->spacy<3.5.0,>=3.4.0->scispacy) (2.1.3)\n",
            "Installing collected packages: spacy\n",
            "  Attempting uninstall: spacy\n",
            "    Found existing installation: spacy 3.6.1\n",
            "    Uninstalling spacy-3.6.1:\n",
            "      Successfully uninstalled spacy-3.6.1\n",
            "\u001b[31mERROR: pip's dependency resolver does not currently take into account all the packages that are installed. This behaviour is the source of the following dependency conflicts.\n",
            "en-core-web-sm 3.6.0 requires spacy<3.7.0,>=3.6.0, but you have spacy 3.4.4 which is incompatible.\u001b[0m\u001b[31m\n",
            "\u001b[0mSuccessfully installed spacy-3.4.4\n"
          ]
        },
        {
          "output_type": "display_data",
          "data": {
            "application/vnd.colab-display-data+json": {
              "pip_warning": {
                "packages": [
                  "spacy"
                ]
              }
            }
          },
          "metadata": {}
        },
        {
          "output_type": "stream",
          "name": "stdout",
          "text": [
            "Collecting https://s3-us-west-2.amazonaws.com/ai2-s2-scispacy/releases/v0.5.1/en_core_sci_sm-0.5.1.tar.gz\n",
            "  Using cached https://s3-us-west-2.amazonaws.com/ai2-s2-scispacy/releases/v0.5.1/en_core_sci_sm-0.5.1.tar.gz (15.9 MB)\n",
            "  Preparing metadata (setup.py) ... \u001b[?25l\u001b[?25hdone\n",
            "Requirement already satisfied: spacy<3.5.0,>=3.4.1 in /usr/local/lib/python3.10/dist-packages (from en-core-sci-sm==0.5.1) (3.4.4)\n",
            "Requirement already satisfied: spacy-legacy<3.1.0,>=3.0.10 in /usr/local/lib/python3.10/dist-packages (from spacy<3.5.0,>=3.4.1->en-core-sci-sm==0.5.1) (3.0.12)\n",
            "Requirement already satisfied: spacy-loggers<2.0.0,>=1.0.0 in /usr/local/lib/python3.10/dist-packages (from spacy<3.5.0,>=3.4.1->en-core-sci-sm==0.5.1) (1.0.4)\n",
            "Requirement already satisfied: murmurhash<1.1.0,>=0.28.0 in /usr/local/lib/python3.10/dist-packages (from spacy<3.5.0,>=3.4.1->en-core-sci-sm==0.5.1) (1.0.9)\n",
            "Requirement already satisfied: cymem<2.1.0,>=2.0.2 in /usr/local/lib/python3.10/dist-packages (from spacy<3.5.0,>=3.4.1->en-core-sci-sm==0.5.1) (2.0.7)\n",
            "Requirement already satisfied: preshed<3.1.0,>=3.0.2 in /usr/local/lib/python3.10/dist-packages (from spacy<3.5.0,>=3.4.1->en-core-sci-sm==0.5.1) (3.0.8)\n",
            "Requirement already satisfied: thinc<8.2.0,>=8.1.0 in /usr/local/lib/python3.10/dist-packages (from spacy<3.5.0,>=3.4.1->en-core-sci-sm==0.5.1) (8.1.12)\n",
            "Requirement already satisfied: wasabi<1.1.0,>=0.9.1 in /usr/local/lib/python3.10/dist-packages (from spacy<3.5.0,>=3.4.1->en-core-sci-sm==0.5.1) (0.10.1)\n",
            "Requirement already satisfied: srsly<3.0.0,>=2.4.3 in /usr/local/lib/python3.10/dist-packages (from spacy<3.5.0,>=3.4.1->en-core-sci-sm==0.5.1) (2.4.7)\n",
            "Requirement already satisfied: catalogue<2.1.0,>=2.0.6 in /usr/local/lib/python3.10/dist-packages (from spacy<3.5.0,>=3.4.1->en-core-sci-sm==0.5.1) (2.0.9)\n",
            "Requirement already satisfied: typer<0.8.0,>=0.3.0 in /usr/local/lib/python3.10/dist-packages (from spacy<3.5.0,>=3.4.1->en-core-sci-sm==0.5.1) (0.7.0)\n",
            "Requirement already satisfied: pathy>=0.3.5 in /usr/local/lib/python3.10/dist-packages (from spacy<3.5.0,>=3.4.1->en-core-sci-sm==0.5.1) (0.10.2)\n",
            "Requirement already satisfied: smart-open<7.0.0,>=5.2.1 in /usr/local/lib/python3.10/dist-packages (from spacy<3.5.0,>=3.4.1->en-core-sci-sm==0.5.1) (6.3.0)\n",
            "Requirement already satisfied: tqdm<5.0.0,>=4.38.0 in /usr/local/lib/python3.10/dist-packages (from spacy<3.5.0,>=3.4.1->en-core-sci-sm==0.5.1) (4.66.1)\n",
            "Requirement already satisfied: numpy>=1.15.0 in /usr/local/lib/python3.10/dist-packages (from spacy<3.5.0,>=3.4.1->en-core-sci-sm==0.5.1) (1.23.5)\n",
            "Requirement already satisfied: requests<3.0.0,>=2.13.0 in /usr/local/lib/python3.10/dist-packages (from spacy<3.5.0,>=3.4.1->en-core-sci-sm==0.5.1) (2.31.0)\n",
            "Requirement already satisfied: pydantic!=1.8,!=1.8.1,<1.11.0,>=1.7.4 in /usr/local/lib/python3.10/dist-packages (from spacy<3.5.0,>=3.4.1->en-core-sci-sm==0.5.1) (1.10.12)\n",
            "Requirement already satisfied: jinja2 in /usr/local/lib/python3.10/dist-packages (from spacy<3.5.0,>=3.4.1->en-core-sci-sm==0.5.1) (3.1.2)\n",
            "Requirement already satisfied: setuptools in /usr/local/lib/python3.10/dist-packages (from spacy<3.5.0,>=3.4.1->en-core-sci-sm==0.5.1) (67.7.2)\n",
            "Requirement already satisfied: packaging>=20.0 in /usr/local/lib/python3.10/dist-packages (from spacy<3.5.0,>=3.4.1->en-core-sci-sm==0.5.1) (23.1)\n",
            "Requirement already satisfied: langcodes<4.0.0,>=3.2.0 in /usr/local/lib/python3.10/dist-packages (from spacy<3.5.0,>=3.4.1->en-core-sci-sm==0.5.1) (3.3.0)\n",
            "Requirement already satisfied: typing-extensions>=4.2.0 in /usr/local/lib/python3.10/dist-packages (from pydantic!=1.8,!=1.8.1,<1.11.0,>=1.7.4->spacy<3.5.0,>=3.4.1->en-core-sci-sm==0.5.1) (4.7.1)\n",
            "Requirement already satisfied: charset-normalizer<4,>=2 in /usr/local/lib/python3.10/dist-packages (from requests<3.0.0,>=2.13.0->spacy<3.5.0,>=3.4.1->en-core-sci-sm==0.5.1) (3.2.0)\n",
            "Requirement already satisfied: idna<4,>=2.5 in /usr/local/lib/python3.10/dist-packages (from requests<3.0.0,>=2.13.0->spacy<3.5.0,>=3.4.1->en-core-sci-sm==0.5.1) (3.4)\n",
            "Requirement already satisfied: urllib3<3,>=1.21.1 in /usr/local/lib/python3.10/dist-packages (from requests<3.0.0,>=2.13.0->spacy<3.5.0,>=3.4.1->en-core-sci-sm==0.5.1) (2.0.4)\n",
            "Requirement already satisfied: certifi>=2017.4.17 in /usr/local/lib/python3.10/dist-packages (from requests<3.0.0,>=2.13.0->spacy<3.5.0,>=3.4.1->en-core-sci-sm==0.5.1) (2023.7.22)\n",
            "Requirement already satisfied: blis<0.8.0,>=0.7.8 in /usr/local/lib/python3.10/dist-packages (from thinc<8.2.0,>=8.1.0->spacy<3.5.0,>=3.4.1->en-core-sci-sm==0.5.1) (0.7.10)\n",
            "Requirement already satisfied: confection<1.0.0,>=0.0.1 in /usr/local/lib/python3.10/dist-packages (from thinc<8.2.0,>=8.1.0->spacy<3.5.0,>=3.4.1->en-core-sci-sm==0.5.1) (0.1.1)\n",
            "Requirement already satisfied: click<9.0.0,>=7.1.1 in /usr/local/lib/python3.10/dist-packages (from typer<0.8.0,>=0.3.0->spacy<3.5.0,>=3.4.1->en-core-sci-sm==0.5.1) (8.1.6)\n",
            "Requirement already satisfied: MarkupSafe>=2.0 in /usr/local/lib/python3.10/dist-packages (from jinja2->spacy<3.5.0,>=3.4.1->en-core-sci-sm==0.5.1) (2.1.3)\n"
          ]
        }
      ],
      "source": [
        "!pip install scispacy\n",
        "!pip install https://s3-us-west-2.amazonaws.com/ai2-s2-scispacy/releases/v0.5.1/en_core_sci_sm-0.5.1.tar.gz"
      ]
    },
    {
      "cell_type": "code",
      "execution_count": null,
      "metadata": {
        "colab": {
          "base_uri": "https://localhost:8080/"
        },
        "id": "zele52mltU2t",
        "outputId": "24c099b9-d8a6-4f13-a0ed-d6ff0bb310c1"
      },
      "outputs": [
        {
          "output_type": "execute_result",
          "data": {
            "text/plain": [
              "('Evusheld\\nJust curious but has anyone gotten Evusheld? Ive read Ocrevus/Kesimpta/rituxan/lemtrada users are eligible but havent seen anything about Mavenclad. Wondering if its because people havent had as many issues with vaccine antibodies from Mavenclad.',\n",
              " [(44, 52, 'intervention'),\n",
              "  (63, 70, 'intervention'),\n",
              "  (71, 79, 'intervention'),\n",
              "  (80, 87, 'intervention'),\n",
              "  (88, 96, 'intervention'),\n",
              "  (147, 156, 'intervention')])"
            ]
          },
          "metadata": {},
          "execution_count": 45
        }
      ],
      "source": [
        "training_data = transformData(df_train)\n",
        "training_data[33]"
      ]
    },
    {
      "cell_type": "code",
      "execution_count": null,
      "metadata": {
        "id": "4or1FxTpNpjO"
      },
      "outputs": [],
      "source": [
        "import spacy\n",
        "from spacy.tokens import Doc\n",
        "class WhitespaceTokenizer:\n",
        "    def __init__(self, vocab):\n",
        "        self.vocab = vocab\n",
        "\n",
        "    def __call__(self, text):\n",
        "        words = text.split()\n",
        "        return Doc(self.vocab, words=words)"
      ]
    },
    {
      "cell_type": "code",
      "execution_count": null,
      "metadata": {
        "id": "8xat8a8AGIwj"
      },
      "outputs": [],
      "source": [
        "from spacy.tokens import DocBin\n",
        "from spacy.tokens import DocBin\n",
        "\n",
        "\n",
        "nlp = spacy.blank(\"en\")\n",
        "\n",
        "# the DocBin will store the example documents\n",
        "db = DocBin()\n",
        "for text, annotations in training_data:\n",
        "    doc = nlp(text)\n",
        "    ents = []\n",
        "    for start, end, label in annotations:\n",
        "        span = doc.char_span(start, end, label=label)\n",
        "        if span != None:\n",
        "          ents.append(span)\n",
        "    doc.ents = ents\n",
        "    db.add(doc)\n",
        "\n",
        "ner = nlp.create_pipe(\"ner\")\n",
        "nlp.add_pipe(\"ner\", last=True)\n",
        "ner = nlp.get_pipe(\"ner\")\n",
        "for _, annotations in training_data:\n",
        "      for entity in annotations:\n",
        "         ner.add_label(entity[2])\n",
        "db.to_disk(\"./train.spacy\")\n",
        "\n",
        "nlp.tokenizer = WhitespaceTokenizer(nlp.vocab)\n"
      ]
    },
    {
      "cell_type": "code",
      "execution_count": null,
      "metadata": {
        "colab": {
          "base_uri": "https://localhost:8080/"
        },
        "id": "Sm8gZTcRmF8N",
        "outputId": "06d4f280-4464-48fe-ebc6-25b6020f53d0"
      },
      "outputs": [
        {
          "output_type": "execute_result",
          "data": {
            "text/plain": [
              "<spacy.lang.en.English at 0x7b52ad642590>"
            ]
          },
          "metadata": {},
          "execution_count": 48
        }
      ],
      "source": [
        "nlp"
      ]
    },
    {
      "cell_type": "code",
      "execution_count": null,
      "metadata": {
        "id": "J63h_G6NUX6C"
      },
      "outputs": [],
      "source": [
        "from typing import Callable, Iterator, List\n",
        "import spacy\n",
        "from spacy.training import Example\n",
        "from spacy.language import Language\n",
        "import random\n",
        "\n",
        "@spacy.registry.readers(\"corpus_variants.v1\")\n",
        "def stream_data(source: str) -> Callable[[Language], Iterator[Example]]:\n",
        "    def generate_stream(nlp):\n",
        "        for text, cats in read_custom_data(source):\n",
        "            # Create a random variant of the example text\n",
        "            i = random.randint(0, len(text) - 1)\n",
        "            variant = text[:i] + text[i].upper() + text[i + 1:]\n",
        "            doc = nlp.make_doc(variant)\n",
        "            example = Example.from_dict(doc, {\"cats\": cats})\n",
        "            yield example\n",
        "\n",
        "    return generate_stream"
      ]
    },
    {
      "cell_type": "code",
      "execution_count": null,
      "metadata": {
        "colab": {
          "base_uri": "https://localhost:8080/"
        },
        "id": "6fsBRi8f1OJD",
        "outputId": "cc88342e-7c0c-443c-c6eb-0bb9eafb65e8"
      },
      "outputs": [
        {
          "output_type": "stream",
          "name": "stdout",
          "text": [
            "losses at iteration 0  {'ner': 1489.60100533098}\n",
            "losses at iteration 1  {'ner': 1173.1479314280577}\n",
            "losses at iteration 2  {'ner': 968.9544276020308}\n",
            "losses at iteration 3  {'ner': 890.7413525767353}\n",
            "losses at iteration 4  {'ner': 990.9134791959284}\n",
            "losses at iteration 5  {'ner': 1468.9591882198379}\n",
            "losses at iteration 6  {'ner': 1280.218716799729}\n",
            "losses at iteration 7  {'ner': 757.5113803660101}\n",
            "losses at iteration 8  {'ner': 807.5362181608003}\n",
            "losses at iteration 9  {'ner': 666.1008349917129}\n",
            "losses at iteration 10  {'ner': 566.4886020093883}\n",
            "losses at iteration 11  {'ner': 569.6447214313256}\n",
            "losses at iteration 12  {'ner': 938.3502677450946}\n",
            "losses at iteration 13  {'ner': 509.59071781182655}\n",
            "losses at iteration 14  {'ner': 721.1725018467702}\n",
            "losses at iteration 15  {'ner': 675.657371996302}\n",
            "losses at iteration 16  {'ner': 1372.4027231199907}\n",
            "losses at iteration 17  {'ner': 771.0936466457296}\n",
            "losses at iteration 18  {'ner': 447.2299766656708}\n",
            "losses at iteration 19  {'ner': 576.0205851208542}\n",
            "losses at iteration 20  {'ner': 414.80478510602626}\n",
            "losses at iteration 21  {'ner': 504.03337144670365}\n",
            "losses at iteration 22  {'ner': 410.22025354883874}\n",
            "losses at iteration 23  {'ner': 326.616475804687}\n",
            "losses at iteration 24  {'ner': 331.12666515830773}\n",
            "losses at iteration 25  {'ner': 324.57333870812255}\n",
            "losses at iteration 26  {'ner': 446.26997830385795}\n",
            "losses at iteration 27  {'ner': 309.0090702020744}\n",
            "losses at iteration 28  {'ner': 286.3845680945044}\n",
            "losses at iteration 29  {'ner': 286.0253421407407}\n",
            "losses at iteration 30  {'ner': 288.2755593303443}\n",
            "losses at iteration 31  {'ner': 237.6259227507296}\n",
            "losses at iteration 32  {'ner': 261.94114370928224}\n",
            "losses at iteration 33  {'ner': 266.0220101839309}\n",
            "losses at iteration 34  {'ner': 222.29762292621672}\n",
            "losses at iteration 35  {'ner': 228.67985183395976}\n",
            "losses at iteration 36  {'ner': 221.86759821662284}\n",
            "losses at iteration 37  {'ner': 263.98649941459297}\n",
            "losses at iteration 38  {'ner': 191.51391727124906}\n",
            "losses at iteration 39  {'ner': 186.99153938859644}\n",
            "losses at iteration 40  {'ner': 246.67556177204332}\n",
            "losses at iteration 41  {'ner': 263.4135055020224}\n",
            "losses at iteration 42  {'ner': 232.8501115254026}\n",
            "losses at iteration 43  {'ner': 199.19350785506415}\n",
            "losses at iteration 44  {'ner': 214.55357106697542}\n",
            "losses at iteration 45  {'ner': 174.5898620781637}\n",
            "losses at iteration 46  {'ner': 193.00678244526506}\n",
            "losses at iteration 47  {'ner': 228.3131891344986}\n",
            "losses at iteration 48  {'ner': 190.24845189146558}\n",
            "losses at iteration 49  {'ner': 192.26864358607367}\n",
            "losses at iteration 50  {'ner': 176.86626501613583}\n",
            "losses at iteration 51  {'ner': 166.34366834265623}\n",
            "losses at iteration 52  {'ner': 177.39284126491788}\n",
            "losses at iteration 53  {'ner': 181.6660441947622}\n",
            "losses at iteration 54  {'ner': 155.20644079208589}\n",
            "losses at iteration 55  {'ner': 175.3744888962197}\n",
            "losses at iteration 56  {'ner': 151.3633637961294}\n",
            "losses at iteration 57  {'ner': 188.03443734622775}\n",
            "losses at iteration 58  {'ner': 149.79238018795294}\n",
            "losses at iteration 59  {'ner': 199.43597778096398}\n",
            "losses at iteration 60  {'ner': 239.9254942315298}\n",
            "losses at iteration 61  {'ner': 152.56886642383594}\n",
            "losses at iteration 62  {'ner': 216.05245392413528}\n",
            "losses at iteration 63  {'ner': 187.997402803045}\n",
            "losses at iteration 64  {'ner': 142.75588767532878}\n",
            "losses at iteration 65  {'ner': 174.8556068470997}\n",
            "losses at iteration 66  {'ner': 218.17220597751017}\n",
            "losses at iteration 67  {'ner': 157.13959811591286}\n",
            "losses at iteration 68  {'ner': 160.7909039215958}\n",
            "losses at iteration 69  {'ner': 152.55887270453195}\n",
            "losses at iteration 70  {'ner': 168.2387457986432}\n",
            "losses at iteration 71  {'ner': 153.78544925308094}\n",
            "losses at iteration 72  {'ner': 163.00037754046235}\n",
            "losses at iteration 73  {'ner': 175.89659710069571}\n",
            "losses at iteration 74  {'ner': 153.3999430848382}\n",
            "losses at iteration 75  {'ner': 155.3262410323774}\n",
            "losses at iteration 76  {'ner': 179.5194513287166}\n",
            "losses at iteration 77  {'ner': 163.33460103138282}\n",
            "losses at iteration 78  {'ner': 188.19380866828146}\n",
            "losses at iteration 79  {'ner': 159.63898412946253}\n",
            "losses at iteration 80  {'ner': 135.67975486786858}\n",
            "losses at iteration 81  {'ner': 159.77988156546652}\n",
            "losses at iteration 82  {'ner': 150.89188155219415}\n",
            "losses at iteration 83  {'ner': 130.40731782096}\n",
            "losses at iteration 84  {'ner': 175.24853732944993}\n",
            "losses at iteration 85  {'ner': 152.5332270675785}\n",
            "losses at iteration 86  {'ner': 168.6076392625277}\n",
            "losses at iteration 87  {'ner': 323.7584800813254}\n",
            "losses at iteration 88  {'ner': 194.5038479805912}\n",
            "losses at iteration 89  {'ner': 176.7195311226244}\n",
            "losses at iteration 90  {'ner': 152.7683746448977}\n",
            "losses at iteration 91  {'ner': 165.35568222627185}\n",
            "losses at iteration 92  {'ner': 152.60710302615078}\n",
            "losses at iteration 93  {'ner': 148.262617492882}\n",
            "losses at iteration 94  {'ner': 164.56681733024178}\n",
            "losses at iteration 95  {'ner': 163.47230825053782}\n",
            "losses at iteration 96  {'ner': 139.22423975342446}\n",
            "losses at iteration 97  {'ner': 137.09826604533947}\n",
            "losses at iteration 98  {'ner': 136.64535848124643}\n",
            "losses at iteration 99  {'ner': 191.74320957812643}\n",
            "losses at iteration 100  {'ner': 147.87049006571144}\n",
            "losses at iteration 101  {'ner': 165.07891160254775}\n",
            "losses at iteration 102  {'ner': 170.96995512161106}\n",
            "losses at iteration 103  {'ner': 138.84961133145353}\n",
            "losses at iteration 104  {'ner': 135.22593058853576}\n",
            "losses at iteration 105  {'ner': 156.9953919723397}\n",
            "losses at iteration 106  {'ner': 147.86727510568534}\n",
            "losses at iteration 107  {'ner': 196.84034213732414}\n",
            "losses at iteration 108  {'ner': 152.80686557435814}\n",
            "losses at iteration 109  {'ner': 144.86524895764245}\n",
            "losses at iteration 110  {'ner': 158.35924286864764}\n",
            "losses at iteration 111  {'ner': 146.37556347272863}\n",
            "losses at iteration 112  {'ner': 167.72205980622073}\n",
            "losses at iteration 113  {'ner': 131.97732479479137}\n",
            "losses at iteration 114  {'ner': 136.30603875771948}\n",
            "losses at iteration 115  {'ner': 143.78785120889575}\n",
            "losses at iteration 116  {'ner': 118.37231897473467}\n",
            "losses at iteration 117  {'ner': 141.0848002857362}\n",
            "losses at iteration 118  {'ner': 132.69572594045889}\n",
            "losses at iteration 119  {'ner': 137.95000971765225}\n",
            "losses at iteration 120  {'ner': 126.11141100989325}\n",
            "losses at iteration 121  {'ner': 141.92794531377783}\n",
            "losses at iteration 122  {'ner': 169.33600520219966}\n",
            "losses at iteration 123  {'ner': 153.50480432019745}\n",
            "losses at iteration 124  {'ner': 135.040583335514}\n",
            "losses at iteration 125  {'ner': 129.74541183545043}\n",
            "losses at iteration 126  {'ner': 136.4398273891098}\n",
            "losses at iteration 127  {'ner': 153.69360824797064}\n",
            "losses at iteration 128  {'ner': 154.2222511323037}\n",
            "losses at iteration 129  {'ner': 124.5896857135694}\n",
            "losses at iteration 130  {'ner': 116.08211760765703}\n",
            "losses at iteration 131  {'ner': 149.59392173357912}\n",
            "losses at iteration 132  {'ner': 154.05387478920622}\n",
            "losses at iteration 133  {'ner': 152.03941937026727}\n",
            "losses at iteration 134  {'ner': 116.33642470956119}\n",
            "losses at iteration 135  {'ner': 139.64467035076973}\n",
            "losses at iteration 136  {'ner': 177.5705256205349}\n",
            "losses at iteration 137  {'ner': 151.22391419215634}\n",
            "losses at iteration 138  {'ner': 136.90368251501866}\n",
            "losses at iteration 139  {'ner': 166.07993503695036}\n",
            "losses at iteration 140  {'ner': 152.9864518816364}\n",
            "losses at iteration 141  {'ner': 139.0884363964159}\n",
            "losses at iteration 142  {'ner': 118.99275970615012}\n",
            "losses at iteration 143  {'ner': 136.44771652800128}\n",
            "losses at iteration 144  {'ner': 128.96136669463831}\n",
            "losses at iteration 145  {'ner': 134.12002759521027}\n",
            "losses at iteration 146  {'ner': 109.2815052727295}\n",
            "losses at iteration 147  {'ner': 123.88684971935783}\n",
            "losses at iteration 148  {'ner': 133.61870046881836}\n",
            "losses at iteration 149  {'ner': 152.81021043413799}\n",
            "losses at iteration 150  {'ner': 146.9203769837123}\n",
            "losses at iteration 151  {'ner': 149.39036919583958}\n",
            "losses at iteration 152  {'ner': 128.39592990193407}\n",
            "losses at iteration 153  {'ner': 136.5705882153484}\n",
            "losses at iteration 154  {'ner': 126.88919637473172}\n",
            "losses at iteration 155  {'ner': 197.42254771807438}\n",
            "losses at iteration 156  {'ner': 151.35810635353084}\n",
            "losses at iteration 157  {'ner': 144.4857750827874}\n",
            "losses at iteration 158  {'ner': 130.59099670309303}\n",
            "losses at iteration 159  {'ner': 125.30443198757558}\n",
            "losses at iteration 160  {'ner': 144.5775604459435}\n",
            "losses at iteration 161  {'ner': 140.7482081862704}\n",
            "losses at iteration 162  {'ner': 147.26435538926373}\n",
            "losses at iteration 163  {'ner': 152.9796104688225}\n",
            "losses at iteration 164  {'ner': 130.4977294248368}\n",
            "losses at iteration 165  {'ner': 113.79534139242237}\n",
            "losses at iteration 166  {'ner': 133.73445581793538}\n",
            "losses at iteration 167  {'ner': 130.72362995462763}\n",
            "losses at iteration 168  {'ner': 130.2451564734077}\n",
            "losses at iteration 169  {'ner': 114.34707598240378}\n",
            "losses at iteration 170  {'ner': 135.30715361489382}\n",
            "losses at iteration 171  {'ner': 152.6900254312831}\n",
            "losses at iteration 172  {'ner': 123.56546631532748}\n",
            "losses at iteration 173  {'ner': 137.70337347176383}\n",
            "losses at iteration 174  {'ner': 128.12995472686356}\n",
            "losses at iteration 175  {'ner': 126.36128485018759}\n",
            "losses at iteration 176  {'ner': 131.72993928688584}\n",
            "losses at iteration 177  {'ner': 143.09908452483094}\n",
            "losses at iteration 178  {'ner': 125.51101414563391}\n",
            "losses at iteration 179  {'ner': 115.1532285757806}\n",
            "losses at iteration 180  {'ner': 173.08669495658606}\n",
            "losses at iteration 181  {'ner': 151.8889675657855}\n",
            "losses at iteration 182  {'ner': 140.6523264080427}\n",
            "losses at iteration 183  {'ner': 113.82878976049533}\n",
            "losses at iteration 184  {'ner': 108.19644767324034}\n",
            "losses at iteration 185  {'ner': 157.83069266979822}\n",
            "losses at iteration 186  {'ner': 154.18657557649053}\n",
            "losses at iteration 187  {'ner': 131.33065816806067}\n",
            "losses at iteration 188  {'ner': 131.2467063510993}\n",
            "losses at iteration 189  {'ner': 142.72708790914228}\n",
            "losses at iteration 190  {'ner': 146.91651248331817}\n",
            "losses at iteration 191  {'ner': 171.57820425440397}\n",
            "losses at iteration 192  {'ner': 139.48367103852763}\n",
            "losses at iteration 193  {'ner': 138.0056805640884}\n",
            "losses at iteration 194  {'ner': 135.95936295871243}\n",
            "losses at iteration 195  {'ner': 120.1647761017399}\n",
            "losses at iteration 196  {'ner': 145.751627132122}\n",
            "losses at iteration 197  {'ner': 149.42796321756768}\n",
            "losses at iteration 198  {'ner': 119.0644273964212}\n",
            "losses at iteration 199  {'ner': 114.8277150771023}\n"
          ]
        }
      ],
      "source": [
        "import random\n",
        "optimizer = nlp.initialize()\n",
        "for itn in range(200):\n",
        "    random.shuffle(training_data)\n",
        "    losses = {}\n",
        "    for raw_text, annotations in training_data:\n",
        "        if not raw_text:\n",
        "           continue\n",
        "        doc = nlp.make_doc(raw_text)\n",
        "        example = Example.from_dict(doc, {\"entities\": annotations})\n",
        "        nlp.update([example], sgd=optimizer,losses=losses)\n",
        "    print(f\"losses at iteration {itn} \", losses)\n",
        "# nlp.to_disk(\"/output\")"
      ]
    },
    {
      "cell_type": "code",
      "execution_count": null,
      "metadata": {
        "colab": {
          "base_uri": "https://localhost:8080/",
          "height": 317
        },
        "id": "DXFzUNW3UXQM",
        "outputId": "4704ecfc-dd80-41e5-df88-79db0f5dbe2b"
      },
      "outputs": [
        {
          "ename": "AttributeError",
          "evalue": "ignored",
          "output_type": "error",
          "traceback": [
            "\u001b[0;31m---------------------------------------------------------------------------\u001b[0m",
            "\u001b[0;31mAttributeError\u001b[0m                            Traceback (most recent call last)",
            "\u001b[0;32m<ipython-input-50-b785cb3eb892>\u001b[0m in \u001b[0;36m<cell line: 1>\u001b[0;34m()\u001b[0m\n\u001b[0;32m----> 1\u001b[0;31m \u001b[0mnlp\u001b[0m\u001b[0;34m.\u001b[0m\u001b[0mto_disk\u001b[0m\u001b[0;34m(\u001b[0m\u001b[0;34m\"rule-model\"\u001b[0m\u001b[0;34m)\u001b[0m\u001b[0;34m\u001b[0m\u001b[0;34m\u001b[0m\u001b[0m\n\u001b[0m",
            "\u001b[0;32m/usr/local/lib/python3.10/dist-packages/spacy/language.py\u001b[0m in \u001b[0;36mto_disk\u001b[0;34m(self, path, exclude)\u001b[0m\n\u001b[1;32m   2064\u001b[0m         \u001b[0menable\u001b[0m \u001b[0;34m(\u001b[0m\u001b[0mUnion\u001b[0m\u001b[0;34m[\u001b[0m\u001b[0mstr\u001b[0m\u001b[0;34m,\u001b[0m \u001b[0mIterable\u001b[0m\u001b[0;34m[\u001b[0m\u001b[0mstr\u001b[0m\u001b[0;34m]\u001b[0m\u001b[0;34m]\u001b[0m\u001b[0;34m)\u001b[0m\u001b[0;34m:\u001b[0m \u001b[0mName\u001b[0m\u001b[0;34m(\u001b[0m\u001b[0ms\u001b[0m\u001b[0;34m)\u001b[0m \u001b[0mof\u001b[0m \u001b[0mpipeline\u001b[0m \u001b[0mcomponent\u001b[0m\u001b[0;34m(\u001b[0m\u001b[0ms\u001b[0m\u001b[0;34m)\u001b[0m \u001b[0mto\u001b[0m \u001b[0menable\u001b[0m\u001b[0;34m.\u001b[0m\u001b[0;34m\u001b[0m\u001b[0;34m\u001b[0m\u001b[0m\n\u001b[1;32m   2065\u001b[0m         \u001b[0mpipe_names\u001b[0m \u001b[0;34m(\u001b[0m\u001b[0mIterable\u001b[0m\u001b[0;34m[\u001b[0m\u001b[0mstr\u001b[0m\u001b[0;34m]\u001b[0m\u001b[0;34m)\u001b[0m\u001b[0;34m:\u001b[0m \u001b[0mNames\u001b[0m \u001b[0mof\u001b[0m \u001b[0mall\u001b[0m \u001b[0mpipeline\u001b[0m \u001b[0mcomponents\u001b[0m\u001b[0;34m.\u001b[0m\u001b[0;34m\u001b[0m\u001b[0;34m\u001b[0m\u001b[0m\n\u001b[0;32m-> 2066\u001b[0;31m \u001b[0;34m\u001b[0m\u001b[0m\n\u001b[0m\u001b[1;32m   2067\u001b[0m         \u001b[0mRETURNS\u001b[0m \u001b[0;34m(\u001b[0m\u001b[0mTuple\u001b[0m\u001b[0;34m[\u001b[0m\u001b[0mstr\u001b[0m\u001b[0;34m,\u001b[0m \u001b[0;34m...\u001b[0m\u001b[0;34m]\u001b[0m\u001b[0;34m)\u001b[0m\u001b[0;34m:\u001b[0m \u001b[0mNames\u001b[0m \u001b[0mof\u001b[0m \u001b[0mcomponents\u001b[0m \u001b[0mto\u001b[0m \u001b[0mexclude\u001b[0m \u001b[0;32mfrom\u001b[0m \u001b[0mpipeline\u001b[0m \u001b[0mw\u001b[0m\u001b[0;34m.\u001b[0m\u001b[0mr\u001b[0m\u001b[0;34m.\u001b[0m\u001b[0mt\u001b[0m\u001b[0;34m.\u001b[0m\u001b[0;34m\u001b[0m\u001b[0;34m\u001b[0m\u001b[0m\n\u001b[1;32m   2068\u001b[0m                                    \u001b[0mspecified\u001b[0m \u001b[0mincludes\u001b[0m \u001b[0;32mand\u001b[0m \u001b[0mexcludes\u001b[0m\u001b[0;34m.\u001b[0m\u001b[0;34m\u001b[0m\u001b[0;34m\u001b[0m\u001b[0m\n",
            "\u001b[0;32m/usr/local/lib/python3.10/dist-packages/spacy/util.py\u001b[0m in \u001b[0;36mto_disk\u001b[0;34m(path, writers, exclude)\u001b[0m\n\u001b[1;32m   1377\u001b[0m     \u001b[0;32mreturn\u001b[0m \u001b[0mhtml\u001b[0m\u001b[0;34m.\u001b[0m\u001b[0mstrip\u001b[0m\u001b[0;34m(\u001b[0m\u001b[0;34m)\u001b[0m\u001b[0;34m.\u001b[0m\u001b[0mreplace\u001b[0m\u001b[0;34m(\u001b[0m\u001b[0;34m\"    \"\u001b[0m\u001b[0;34m,\u001b[0m \u001b[0;34m\"\"\u001b[0m\u001b[0;34m)\u001b[0m\u001b[0;34m.\u001b[0m\u001b[0mreplace\u001b[0m\u001b[0;34m(\u001b[0m\u001b[0;34m\"\\n\"\u001b[0m\u001b[0;34m,\u001b[0m \u001b[0;34m\"\"\u001b[0m\u001b[0;34m)\u001b[0m\u001b[0;34m\u001b[0m\u001b[0;34m\u001b[0m\u001b[0m\n\u001b[1;32m   1378\u001b[0m \u001b[0;34m\u001b[0m\u001b[0m\n\u001b[0;32m-> 1379\u001b[0;31m \u001b[0;34m\u001b[0m\u001b[0m\n\u001b[0m\u001b[1;32m   1380\u001b[0m \u001b[0;32mdef\u001b[0m \u001b[0mescape_html\u001b[0m\u001b[0;34m(\u001b[0m\u001b[0mtext\u001b[0m\u001b[0;34m:\u001b[0m \u001b[0mstr\u001b[0m\u001b[0;34m)\u001b[0m \u001b[0;34m->\u001b[0m \u001b[0mstr\u001b[0m\u001b[0;34m:\u001b[0m\u001b[0;34m\u001b[0m\u001b[0;34m\u001b[0m\u001b[0m\n\u001b[1;32m   1381\u001b[0m     \"\"\"Replace <, >, &, \" with their HTML encoded representation. Intended to\n",
            "\u001b[0;32m/usr/local/lib/python3.10/dist-packages/spacy/language.py\u001b[0m in \u001b[0;36m<lambda>\u001b[0;34m(p)\u001b[0m\n\u001b[1;32m   2052\u001b[0m \u001b[0;34m\u001b[0m\u001b[0m\n\u001b[1;32m   2053\u001b[0m     \u001b[0;34m@\u001b[0m\u001b[0mstaticmethod\u001b[0m\u001b[0;34m\u001b[0m\u001b[0;34m\u001b[0m\u001b[0m\n\u001b[0;32m-> 2054\u001b[0;31m     def _resolve_component_status(\n\u001b[0m\u001b[1;32m   2055\u001b[0m         \u001b[0mdisable\u001b[0m\u001b[0;34m:\u001b[0m \u001b[0mUnion\u001b[0m\u001b[0;34m[\u001b[0m\u001b[0mstr\u001b[0m\u001b[0;34m,\u001b[0m \u001b[0mIterable\u001b[0m\u001b[0;34m[\u001b[0m\u001b[0mstr\u001b[0m\u001b[0;34m]\u001b[0m\u001b[0;34m]\u001b[0m\u001b[0;34m,\u001b[0m\u001b[0;34m\u001b[0m\u001b[0;34m\u001b[0m\u001b[0m\n\u001b[1;32m   2056\u001b[0m         \u001b[0menable\u001b[0m\u001b[0;34m:\u001b[0m \u001b[0mUnion\u001b[0m\u001b[0;34m[\u001b[0m\u001b[0mstr\u001b[0m\u001b[0;34m,\u001b[0m \u001b[0mIterable\u001b[0m\u001b[0;34m[\u001b[0m\u001b[0mstr\u001b[0m\u001b[0;34m]\u001b[0m\u001b[0;34m]\u001b[0m\u001b[0;34m,\u001b[0m\u001b[0;34m\u001b[0m\u001b[0;34m\u001b[0m\u001b[0m\n",
            "\u001b[0;31mAttributeError\u001b[0m: 'WhitespaceTokenizer' object has no attribute 'to_disk'"
          ]
        }
      ],
      "source": [
        "nlp.to_disk(\"rule-model\")\n"
      ]
    },
    {
      "cell_type": "code",
      "execution_count": null,
      "metadata": {
        "colab": {
          "base_uri": "https://localhost:8080/",
          "height": 242
        },
        "id": "cL2nZtn9ezgK",
        "outputId": "1be6febe-635c-4721-dd53-87b1de19ed9b"
      },
      "outputs": [
        {
          "ename": "NameError",
          "evalue": "ignored",
          "output_type": "error",
          "traceback": [
            "\u001b[0;31m---------------------------------------------------------------------------\u001b[0m",
            "\u001b[0;31mNameError\u001b[0m                                 Traceback (most recent call last)",
            "\u001b[0;32m<ipython-input-1-9a35144a2257>\u001b[0m in \u001b[0;36m<cell line: 1>\u001b[0;34m()\u001b[0m\n\u001b[0;32m----> 1\u001b[0;31m \u001b[0mdb\u001b[0m \u001b[0;34m=\u001b[0m \u001b[0mDocBin\u001b[0m\u001b[0;34m(\u001b[0m\u001b[0;34m)\u001b[0m \u001b[0;31m# create a DocBin object\u001b[0m\u001b[0;34m\u001b[0m\u001b[0;34m\u001b[0m\u001b[0m\n\u001b[0m\u001b[1;32m      2\u001b[0m \u001b[0;34m\u001b[0m\u001b[0m\n\u001b[1;32m      3\u001b[0m \u001b[0;31m# omitting code for debugging purposes\u001b[0m\u001b[0;34m\u001b[0m\u001b[0;34m\u001b[0m\u001b[0m\n\u001b[1;32m      4\u001b[0m \u001b[0;34m\u001b[0m\u001b[0m\n\u001b[1;32m      5\u001b[0m \u001b[0mdb\u001b[0m\u001b[0;34m.\u001b[0m\u001b[0mto_disk\u001b[0m\u001b[0;34m(\u001b[0m\u001b[0;34m\"./train.spacy\"\u001b[0m\u001b[0;34m)\u001b[0m \u001b[0;31m# save the docbin object\u001b[0m\u001b[0;34m\u001b[0m\u001b[0;34m\u001b[0m\u001b[0m\n",
            "\u001b[0;31mNameError\u001b[0m: name 'DocBin' is not defined"
          ]
        }
      ],
      "source": []
    },
    {
      "cell_type": "markdown",
      "metadata": {
        "id": "cf8rDTwEfyQm"
      },
      "source": []
    },
    {
      "cell_type": "code",
      "execution_count": null,
      "metadata": {
        "colab": {
          "base_uri": "https://localhost:8080/",
          "height": 35
        },
        "id": "uUKmhMvkneE6",
        "outputId": "b6058022-1b30-452a-b0cb-420aa8de27f8"
      },
      "outputs": [
        {
          "data": {
            "application/vnd.google.colaboratory.intrinsic+json": {
              "type": "string"
            },
            "text/plain": [
              "'\\npython -m spacy evaluate en_core_web_sm\\n'"
            ]
          },
          "execution_count": 51,
          "metadata": {},
          "output_type": "execute_result"
        }
      ],
      "source": [
        "'''\n",
        "python -m spacy evaluate en_core_web_sm\n",
        "'''"
      ]
    },
    {
      "cell_type": "code",
      "execution_count": null,
      "metadata": {
        "colab": {
          "base_uri": "https://localhost:8080/"
        },
        "id": "d3N4G5_3Aowq",
        "outputId": "4fcccf49-9116-4408-d659-1a0dfdb74db6"
      },
      "outputs": [
        {
          "output_type": "stream",
          "name": "stdout",
          "text": [
            "Entities []\n",
            "Entities [('alcohol', 'intervention')]\n",
            "Entities [('LPR', 'intervention')]\n",
            "Entities []\n",
            "Entities []\n",
            "Entities [('the', 'intervention')]\n",
            "Entities []\n",
            "Entities []\n",
            "Entities []\n",
            "Entities []\n",
            "Entities []\n",
            "Entities []\n",
            "Entities []\n",
            "Entities [('epilepsy', 'intervention')]\n",
            "Entities [('https://www.amazon.com/dp/B01NCIXTGT/ref=cm_sw_r_apan_glt_fabc_NJHS228YMMPS5TNMFD07', 'intervention')]\n",
            "Entities []\n",
            "Entities []\n",
            "Entities []\n",
            "Entities [('marijuana', 'intervention'), ('cancer', 'population')]\n",
            "Entities []\n",
            "Entities [('POTS', 'population'), ('POTS', 'population')]\n",
            "Entities []\n",
            "Entities []\n",
            "Entities []\n",
            "Entities [('MS', 'population'), ('MS', 'population')]\n",
            "Entities []\n",
            "Entities []\n",
            "Entities []\n",
            "Entities []\n",
            "Entities []\n",
            "Entities []\n",
            "Entities []\n",
            "Entities []\n",
            "Entities []\n",
            "Entities []\n",
            "Entities [('gout', 'population'), ('Covid', 'population')]\n",
            "Entities []\n",
            "Entities []\n",
            "Entities []\n",
            "Entities []\n",
            "Entities []\n",
            "Entities []\n",
            "Entities [('MS', 'population')]\n",
            "Entities []\n",
            "Entities []\n",
            "Entities []\n",
            "Entities []\n",
            "Entities [('Hydroxychloroquine', 'intervention')]\n",
            "Entities [('an', 'intervention')]\n",
            "Entities [('epilepsy', 'population')]\n",
            "Entities []\n",
            "Entities [('pots', 'population'), ('gastritis', 'intervention')]\n",
            "Entities []\n",
            "Entities []\n",
            "Entities []\n",
            "Entities []\n",
            "Entities []\n",
            "Entities []\n",
            "Entities []\n",
            "Entities [('gastritis', 'intervention')]\n",
            "Entities [('esophagus', 'population')]\n",
            "Entities [('Epilepsy', 'intervention')]\n",
            "Entities [('Psychosis', 'population')]\n",
            "Entities []\n",
            "Entities []\n",
            "Entities []\n",
            "Entities []\n",
            "Entities [('covid', 'population')]\n",
            "Entities [('Trikafta', 'intervention'), ('Trikafta', 'intervention')]\n",
            "Entities []\n",
            "Entities []\n",
            "Entities []\n",
            "Entities [('pots', 'population')]\n",
            "Entities []\n",
            "Entities []\n",
            "Entities []\n",
            "Entities []\n",
            "Entities [('gabapentin', 'intervention'), ('MSers', 'intervention')]\n",
            "Entities [('gabapentin', 'intervention'), ('tingling', 'outcome')]\n",
            "Entities [('psychosis', 'population'), ('weed', 'intervention'), ('weed', 'intervention')]\n",
            "Entities [('MS', 'population'), ('MS', 'population')]\n",
            "Entities [('Kaftrio', 'intervention')]\n",
            "Entities []\n",
            "Entities []\n",
            "Entities [('vaccine', 'intervention')]\n",
            "Entities [('optifiber', 'intervention'), ('Metamucil', 'intervention'), ('psyllium', 'intervention')]\n",
            "Entities []\n",
            "Entities [('Methotrexate', 'intervention')]\n",
            "Entities [('lupus', 'population')]\n",
            "Entities []\n",
            "Entities []\n",
            "Entities [('Trikafta', 'intervention'), ('Trikafta', 'intervention'), ('Trikafta', 'intervention')]\n",
            "Entities []\n",
            "Entities []\n",
            "Entities []\n",
            "Entities []\n",
            "Entities [('nausea', 'outcome'), ('POTS', 'population')]\n",
            "Entities []\n",
            "Entities []\n",
            "Entities []\n",
            "Entities [('ibs', 'population'), ('ibs', 'population')]\n",
            "Entities []\n",
            "Entities []\n",
            "Entities []\n",
            "Entities []\n",
            "Entities [('COVID', 'population')]\n",
            "Entities []\n",
            "Entities [('intense', 'intervention')]\n",
            "Entities [('Fibrosis', 'intervention')]\n",
            "Entities []\n",
            "Entities []\n",
            "Entities [('lupus', 'population')]\n",
            "Entities [('psychosis', 'population')]\n",
            "Entities [('gout', 'intervention')]\n",
            "Entities [('Covid', 'population')]\n",
            "Entities []\n",
            "Entities [('Covid', 'population')]\n",
            "Entities []\n",
            "Entities []\n",
            "Entities []\n",
            "Entities []\n",
            "Entities []\n",
            "Entities []\n",
            "Entities [('Burdock', 'intervention')]\n",
            "Entities [('allopurinol', 'intervention')]\n",
            "Entities []\n",
            "Entities []\n",
            "Entities []\n",
            "Entities []\n",
            "Entities []\n",
            "Entities [('MS', 'population')]\n",
            "Entities [('constipation', 'population'), ('fiber', 'intervention')]\n",
            "Entities []\n",
            "Entities []\n",
            "Entities []\n",
            "Entities []\n",
            "Entities []\n",
            "Entities []\n",
            "Entities [('COVID-19', 'population'), ('lupus', 'population'), ('lupus', 'population')]\n",
            "Entities []\n",
            "Entities []\n",
            "Entities [('gabapentin', 'intervention'), ('tingling', 'outcome')]\n",
            "Entities []\n",
            "Entities []\n",
            "Entities [('allergic', 'intervention')]\n",
            "Entities [('Epilepsy', 'intervention')]\n",
            "Entities []\n",
            "Entities []\n",
            "Entities []\n",
            "Empty DataFrame\n",
            "Columns: [words, labels]\n",
            "Index: []\n"
          ]
        }
      ],
      "source": [
        "sentences = df_test['text']\n",
        "\n",
        "\n",
        "outputs = dict()\n",
        "outputs[\"words\"] = []\n",
        "outputs[\"labels\"] = []\n",
        "\n",
        "\n",
        "\n",
        "\n",
        "\n",
        "# for doc in nlp.pipe(sentences):\n",
        "#     for token in doc:\n",
        "#         outputs[\"words\"].append(token)\n",
        "#         outputs[\"labels\"].append(token.span)\n",
        "\n",
        "for doc in nlp.pipe(sentences):\n",
        "    print('Entities', [(ent.text, ent.label_) for ent in doc.ents])\n",
        "  #  for entity in doc.ents:\n",
        "  #      print('Entity extracted : ', entity.text)\n",
        "  #      print('Sentence extracted from : ', entity.sent)\n",
        "df = pd.DataFrame.from_dict(outputs)\n",
        "df.to_csv(\"data.csv\")\n",
        "print(df)\n",
        "# sentences"
      ]
    },
    {
      "cell_type": "code",
      "source": [
        "df_test"
      ],
      "metadata": {
        "colab": {
          "base_uri": "https://localhost:8080/",
          "height": 419
        },
        "id": "1VCApn59p6pG",
        "outputId": "e03ed7d2-774f-4848-ffe4-6b621aeeca87"
      },
      "execution_count": null,
      "outputs": [
        {
          "output_type": "execute_result",
          "data": {
            "text/plain": [
              "    post_id subreddit_id                                              claim  \\\n",
              "0    s8qa1c     t5_2tyg2  [Structural dissociation](https://did-research...   \n",
              "1    opt7bh     t5_2syer  I though that the gout was for old whiskey dri...   \n",
              "2    rfj6tf     t5_2qlaa  I've read that a liquid alginate suspension (G...   \n",
              "3    qyfer0     t5_2syer  This will reduce the effects of Lisinopril pre...   \n",
              "4    rr99la     t5_2qlaa  all the gerd/lpr stuff online says we should a...   \n",
              "..      ...          ...                                                ...   \n",
              "144  pkgb0t     t5_2r876  e doctor said a lot of people have a flair and...   \n",
              "145  rrc55b     t5_2s1h9  I've been researching some problems I've been ...   \n",
              "146  sqckaa     t5_2s23e  What **Plegridy** injections have extra apart ...   \n",
              "147  rwzbcd     t5_2qlaa  My sister, who also has GERD, said that pepper...   \n",
              "148  qxkh0f     t5_2syer  GP thought gout in ankle was unlikely and that...   \n",
              "\n",
              "                                                  text  \\\n",
              "0    Can structural dissociation lead to psychosis?...   \n",
              "1    First time gout flare\\nHi guys,\\n\\nJust turned...   \n",
              "2    Can I buy liquid alginate suspension (Gaviscon...   \n",
              "3                         [deleted by user]\\n[removed]   \n",
              "4    I seem to reflux more and sleep worse when I d...   \n",
              "..                                                 ...   \n",
              "144  ABPA?\\nIt's me again.  My son's been sick for ...   \n",
              "145  Sleep-related Hypermotor Epilepsy\\nHey all,\\n\\...   \n",
              "146  Anyone has local injection site reactions on K...   \n",
              "147                       [deleted by user]\\n[removed]   \n",
              "148  Ankle / achilles\\nLooking for others' experien...   \n",
              "\n",
              "                                         stage2_labels  \n",
              "0    [{\"crowd-entity-annotation\":{\"entities\":[{\"end...  \n",
              "1    [{\"crowd-entity-annotation\":{\"entities\":[{\"end...  \n",
              "2    [{\"crowd-entity-annotation\":{\"entities\":[{\"end...  \n",
              "3    [{\"crowd-entity-annotation\":{\"entities\":[{\"end...  \n",
              "4    [{\"crowd-entity-annotation\":{\"entities\":[{\"end...  \n",
              "..                                                 ...  \n",
              "144  [{\"crowd-entity-annotation\":{\"entities\":[{\"end...  \n",
              "145  [{\"crowd-entity-annotation\":{\"entities\":[{\"end...  \n",
              "146  [{\"crowd-entity-annotation\":{\"entities\":[{\"end...  \n",
              "147  [{\"crowd-entity-annotation\":{\"entities\":[{\"end...  \n",
              "148      [{\"crowd-entity-annotation\":{\"entities\":[]}}]  \n",
              "\n",
              "[149 rows x 5 columns]"
            ],
            "text/html": [
              "\n",
              "  <div id=\"df-5d1bb453-5d83-42da-ba36-4788c1b33858\" class=\"colab-df-container\">\n",
              "    <div>\n",
              "<style scoped>\n",
              "    .dataframe tbody tr th:only-of-type {\n",
              "        vertical-align: middle;\n",
              "    }\n",
              "\n",
              "    .dataframe tbody tr th {\n",
              "        vertical-align: top;\n",
              "    }\n",
              "\n",
              "    .dataframe thead th {\n",
              "        text-align: right;\n",
              "    }\n",
              "</style>\n",
              "<table border=\"1\" class=\"dataframe\">\n",
              "  <thead>\n",
              "    <tr style=\"text-align: right;\">\n",
              "      <th></th>\n",
              "      <th>post_id</th>\n",
              "      <th>subreddit_id</th>\n",
              "      <th>claim</th>\n",
              "      <th>text</th>\n",
              "      <th>stage2_labels</th>\n",
              "    </tr>\n",
              "  </thead>\n",
              "  <tbody>\n",
              "    <tr>\n",
              "      <th>0</th>\n",
              "      <td>s8qa1c</td>\n",
              "      <td>t5_2tyg2</td>\n",
              "      <td>[Structural dissociation](https://did-research...</td>\n",
              "      <td>Can structural dissociation lead to psychosis?...</td>\n",
              "      <td>[{\"crowd-entity-annotation\":{\"entities\":[{\"end...</td>\n",
              "    </tr>\n",
              "    <tr>\n",
              "      <th>1</th>\n",
              "      <td>opt7bh</td>\n",
              "      <td>t5_2syer</td>\n",
              "      <td>I though that the gout was for old whiskey dri...</td>\n",
              "      <td>First time gout flare\\nHi guys,\\n\\nJust turned...</td>\n",
              "      <td>[{\"crowd-entity-annotation\":{\"entities\":[{\"end...</td>\n",
              "    </tr>\n",
              "    <tr>\n",
              "      <th>2</th>\n",
              "      <td>rfj6tf</td>\n",
              "      <td>t5_2qlaa</td>\n",
              "      <td>I've read that a liquid alginate suspension (G...</td>\n",
              "      <td>Can I buy liquid alginate suspension (Gaviscon...</td>\n",
              "      <td>[{\"crowd-entity-annotation\":{\"entities\":[{\"end...</td>\n",
              "    </tr>\n",
              "    <tr>\n",
              "      <th>3</th>\n",
              "      <td>qyfer0</td>\n",
              "      <td>t5_2syer</td>\n",
              "      <td>This will reduce the effects of Lisinopril pre...</td>\n",
              "      <td>[deleted by user]\\n[removed]</td>\n",
              "      <td>[{\"crowd-entity-annotation\":{\"entities\":[{\"end...</td>\n",
              "    </tr>\n",
              "    <tr>\n",
              "      <th>4</th>\n",
              "      <td>rr99la</td>\n",
              "      <td>t5_2qlaa</td>\n",
              "      <td>all the gerd/lpr stuff online says we should a...</td>\n",
              "      <td>I seem to reflux more and sleep worse when I d...</td>\n",
              "      <td>[{\"crowd-entity-annotation\":{\"entities\":[{\"end...</td>\n",
              "    </tr>\n",
              "    <tr>\n",
              "      <th>...</th>\n",
              "      <td>...</td>\n",
              "      <td>...</td>\n",
              "      <td>...</td>\n",
              "      <td>...</td>\n",
              "      <td>...</td>\n",
              "    </tr>\n",
              "    <tr>\n",
              "      <th>144</th>\n",
              "      <td>pkgb0t</td>\n",
              "      <td>t5_2r876</td>\n",
              "      <td>e doctor said a lot of people have a flair and...</td>\n",
              "      <td>ABPA?\\nIt's me again.  My son's been sick for ...</td>\n",
              "      <td>[{\"crowd-entity-annotation\":{\"entities\":[{\"end...</td>\n",
              "    </tr>\n",
              "    <tr>\n",
              "      <th>145</th>\n",
              "      <td>rrc55b</td>\n",
              "      <td>t5_2s1h9</td>\n",
              "      <td>I've been researching some problems I've been ...</td>\n",
              "      <td>Sleep-related Hypermotor Epilepsy\\nHey all,\\n\\...</td>\n",
              "      <td>[{\"crowd-entity-annotation\":{\"entities\":[{\"end...</td>\n",
              "    </tr>\n",
              "    <tr>\n",
              "      <th>146</th>\n",
              "      <td>sqckaa</td>\n",
              "      <td>t5_2s23e</td>\n",
              "      <td>What **Plegridy** injections have extra apart ...</td>\n",
              "      <td>Anyone has local injection site reactions on K...</td>\n",
              "      <td>[{\"crowd-entity-annotation\":{\"entities\":[{\"end...</td>\n",
              "    </tr>\n",
              "    <tr>\n",
              "      <th>147</th>\n",
              "      <td>rwzbcd</td>\n",
              "      <td>t5_2qlaa</td>\n",
              "      <td>My sister, who also has GERD, said that pepper...</td>\n",
              "      <td>[deleted by user]\\n[removed]</td>\n",
              "      <td>[{\"crowd-entity-annotation\":{\"entities\":[{\"end...</td>\n",
              "    </tr>\n",
              "    <tr>\n",
              "      <th>148</th>\n",
              "      <td>qxkh0f</td>\n",
              "      <td>t5_2syer</td>\n",
              "      <td>GP thought gout in ankle was unlikely and that...</td>\n",
              "      <td>Ankle / achilles\\nLooking for others' experien...</td>\n",
              "      <td>[{\"crowd-entity-annotation\":{\"entities\":[]}}]</td>\n",
              "    </tr>\n",
              "  </tbody>\n",
              "</table>\n",
              "<p>149 rows × 5 columns</p>\n",
              "</div>\n",
              "    <div class=\"colab-df-buttons\">\n",
              "\n",
              "  <div class=\"colab-df-container\">\n",
              "    <button class=\"colab-df-convert\" onclick=\"convertToInteractive('df-5d1bb453-5d83-42da-ba36-4788c1b33858')\"\n",
              "            title=\"Convert this dataframe to an interactive table.\"\n",
              "            style=\"display:none;\">\n",
              "\n",
              "  <svg xmlns=\"http://www.w3.org/2000/svg\" height=\"24px\" viewBox=\"0 -960 960 960\">\n",
              "    <path d=\"M120-120v-720h720v720H120Zm60-500h600v-160H180v160Zm220 220h160v-160H400v160Zm0 220h160v-160H400v160ZM180-400h160v-160H180v160Zm440 0h160v-160H620v160ZM180-180h160v-160H180v160Zm440 0h160v-160H620v160Z\"/>\n",
              "  </svg>\n",
              "    </button>\n",
              "\n",
              "  <style>\n",
              "    .colab-df-container {\n",
              "      display:flex;\n",
              "      gap: 12px;\n",
              "    }\n",
              "\n",
              "    .colab-df-convert {\n",
              "      background-color: #E8F0FE;\n",
              "      border: none;\n",
              "      border-radius: 50%;\n",
              "      cursor: pointer;\n",
              "      display: none;\n",
              "      fill: #1967D2;\n",
              "      height: 32px;\n",
              "      padding: 0 0 0 0;\n",
              "      width: 32px;\n",
              "    }\n",
              "\n",
              "    .colab-df-convert:hover {\n",
              "      background-color: #E2EBFA;\n",
              "      box-shadow: 0px 1px 2px rgba(60, 64, 67, 0.3), 0px 1px 3px 1px rgba(60, 64, 67, 0.15);\n",
              "      fill: #174EA6;\n",
              "    }\n",
              "\n",
              "    .colab-df-buttons div {\n",
              "      margin-bottom: 4px;\n",
              "    }\n",
              "\n",
              "    [theme=dark] .colab-df-convert {\n",
              "      background-color: #3B4455;\n",
              "      fill: #D2E3FC;\n",
              "    }\n",
              "\n",
              "    [theme=dark] .colab-df-convert:hover {\n",
              "      background-color: #434B5C;\n",
              "      box-shadow: 0px 1px 3px 1px rgba(0, 0, 0, 0.15);\n",
              "      filter: drop-shadow(0px 1px 2px rgba(0, 0, 0, 0.3));\n",
              "      fill: #FFFFFF;\n",
              "    }\n",
              "  </style>\n",
              "\n",
              "    <script>\n",
              "      const buttonEl =\n",
              "        document.querySelector('#df-5d1bb453-5d83-42da-ba36-4788c1b33858 button.colab-df-convert');\n",
              "      buttonEl.style.display =\n",
              "        google.colab.kernel.accessAllowed ? 'block' : 'none';\n",
              "\n",
              "      async function convertToInteractive(key) {\n",
              "        const element = document.querySelector('#df-5d1bb453-5d83-42da-ba36-4788c1b33858');\n",
              "        const dataTable =\n",
              "          await google.colab.kernel.invokeFunction('convertToInteractive',\n",
              "                                                    [key], {});\n",
              "        if (!dataTable) return;\n",
              "\n",
              "        const docLinkHtml = 'Like what you see? Visit the ' +\n",
              "          '<a target=\"_blank\" href=https://colab.research.google.com/notebooks/data_table.ipynb>data table notebook</a>'\n",
              "          + ' to learn more about interactive tables.';\n",
              "        element.innerHTML = '';\n",
              "        dataTable['output_type'] = 'display_data';\n",
              "        await google.colab.output.renderOutput(dataTable, element);\n",
              "        const docLink = document.createElement('div');\n",
              "        docLink.innerHTML = docLinkHtml;\n",
              "        element.appendChild(docLink);\n",
              "      }\n",
              "    </script>\n",
              "  </div>\n",
              "\n",
              "\n",
              "<div id=\"df-26077596-1c55-4e9f-8c23-3d6c355ee45a\">\n",
              "  <button class=\"colab-df-quickchart\" onclick=\"quickchart('df-26077596-1c55-4e9f-8c23-3d6c355ee45a')\"\n",
              "            title=\"Suggest charts.\"\n",
              "            style=\"display:none;\">\n",
              "\n",
              "<svg xmlns=\"http://www.w3.org/2000/svg\" height=\"24px\"viewBox=\"0 0 24 24\"\n",
              "     width=\"24px\">\n",
              "    <g>\n",
              "        <path d=\"M19 3H5c-1.1 0-2 .9-2 2v14c0 1.1.9 2 2 2h14c1.1 0 2-.9 2-2V5c0-1.1-.9-2-2-2zM9 17H7v-7h2v7zm4 0h-2V7h2v10zm4 0h-2v-4h2v4z\"/>\n",
              "    </g>\n",
              "</svg>\n",
              "  </button>\n",
              "\n",
              "<style>\n",
              "  .colab-df-quickchart {\n",
              "    background-color: #E8F0FE;\n",
              "    border: none;\n",
              "    border-radius: 50%;\n",
              "    cursor: pointer;\n",
              "    display: none;\n",
              "    fill: #1967D2;\n",
              "    height: 32px;\n",
              "    padding: 0 0 0 0;\n",
              "    width: 32px;\n",
              "  }\n",
              "\n",
              "  .colab-df-quickchart:hover {\n",
              "    background-color: #E2EBFA;\n",
              "    box-shadow: 0px 1px 2px rgba(60, 64, 67, 0.3), 0px 1px 3px 1px rgba(60, 64, 67, 0.15);\n",
              "    fill: #174EA6;\n",
              "  }\n",
              "\n",
              "  [theme=dark] .colab-df-quickchart {\n",
              "    background-color: #3B4455;\n",
              "    fill: #D2E3FC;\n",
              "  }\n",
              "\n",
              "  [theme=dark] .colab-df-quickchart:hover {\n",
              "    background-color: #434B5C;\n",
              "    box-shadow: 0px 1px 3px 1px rgba(0, 0, 0, 0.15);\n",
              "    filter: drop-shadow(0px 1px 2px rgba(0, 0, 0, 0.3));\n",
              "    fill: #FFFFFF;\n",
              "  }\n",
              "</style>\n",
              "\n",
              "  <script>\n",
              "    async function quickchart(key) {\n",
              "      const charts = await google.colab.kernel.invokeFunction(\n",
              "          'suggestCharts', [key], {});\n",
              "    }\n",
              "    (() => {\n",
              "      let quickchartButtonEl =\n",
              "        document.querySelector('#df-26077596-1c55-4e9f-8c23-3d6c355ee45a button');\n",
              "      quickchartButtonEl.style.display =\n",
              "        google.colab.kernel.accessAllowed ? 'block' : 'none';\n",
              "    })();\n",
              "  </script>\n",
              "</div>\n",
              "    </div>\n",
              "  </div>\n"
            ]
          },
          "metadata": {},
          "execution_count": 33
        }
      ]
    },
    {
      "cell_type": "code",
      "source": [
        "import spacy\n",
        "from spacy.scorer import Scorer\n",
        "from spacy.training import Example\n",
        "\n",
        "TEST_DATA = transforTestmData(df_test)\n",
        "# # Default scoring pipeline\n",
        "scorer = Scorer()\n",
        "\n",
        "examples = []\n",
        "for text, annotations in TEST_DATA:\n",
        "    doc_pred=nlp(text)\n",
        "    example=Example.from_dict(doc_pred, annotations)\n",
        "    examples.append(example)\n",
        "print(scorer.score_spans(examples, \"ents\"))\n"
      ],
      "metadata": {
        "id": "clk1L8K3o4J_",
        "colab": {
          "base_uri": "https://localhost:8080/"
        },
        "outputId": "4aa2aec2-054c-441e-e5ac-55b7616b016f"
      },
      "execution_count": null,
      "outputs": [
        {
          "output_type": "stream",
          "name": "stdout",
          "text": [
            "{'ents_p': 0.15246636771300448, 'ents_r': 0.09714285714285714, 'ents_f': 0.11867364746945899, 'ents_per_type': {'intervention': {'p': 0.125, 'r': 0.09923664122137404, 'f': 0.11063829787234042}, 'population': {'p': 0.19626168224299065, 'r': 0.1891891891891892, 'f': 0.19266055045871563}, 'outcome': {'p': 0.0, 'r': 0.0, 'f': 0.0}}}\n"
          ]
        }
      ]
    },
    {
      "cell_type": "code",
      "source": [
        "import json\n",
        "\n",
        "def transforTestmData(df):\n",
        "  newDataFormat = []\n",
        "  for index, row in df.iterrows():\n",
        "      newLabelFormat = []\n",
        "      result = json.loads(row['stage2_labels'])\n",
        "      tags = result[0]['crowd-entity-annotation']['entities']\n",
        "      for tag in tags:\n",
        "        newLabelFormat.append((tag['startOffset'],tag['endOffset'],tag['label']))\n",
        "        newDataFormat.append((row['text'],{'entities':newLabelFormat}))\n",
        "  return newDataFormat"
      ],
      "metadata": {
        "id": "V1_yg3ozr-b1"
      },
      "execution_count": null,
      "outputs": []
    }
  ],
  "metadata": {
    "colab": {
      "toc_visible": true,
      "provenance": [],
      "authorship_tag": "ABX9TyOwzmqLjbsvfbTLGNRt1dFp",
      "include_colab_link": true
    },
    "kernelspec": {
      "display_name": "Python 3",
      "name": "python3"
    },
    "language_info": {
      "name": "python"
    }
  },
  "nbformat": 4,
  "nbformat_minor": 0
}